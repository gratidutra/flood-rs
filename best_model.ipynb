{
 "cells": [
  {
   "cell_type": "code",
   "execution_count": 27,
   "id": "594f297a-2661-4dd5-9f42-2a05376a8d1c",
   "metadata": {},
   "outputs": [],
   "source": [
    "import pandas as pd \n",
    "from prophet import Prophet\n",
    "from prophet.plot import plot_plotly, plot_components_plotly\n",
    "from prophet.diagnostics import performance_metrics\n",
    "from prophet.plot import plot_cross_validation_metric"
   ]
  },
  {
   "cell_type": "code",
   "execution_count": 9,
   "id": "524b682b-676b-46ab-884f-9644713379e1",
   "metadata": {},
   "outputs": [],
   "source": [
    "sao_goncalo_data = pd.read_csv(\"data/data.csv\")\n",
    "\n",
    "sao_goncalo_data = sao_goncalo_data[sao_goncalo_data['Rio'] != 'lagoa dos patos']\n",
    "\n",
    "sao_goncalo_data['ds'] = pd.to_datetime(sao_goncalo_data['ds'])\n",
    "\n",
    "sao_goncalo_data['ds'] = sao_goncalo_data['ds'].dt.strftime('%d-%m-%Y, %H:%M:%S')"
   ]
  },
  {
   "cell_type": "code",
   "execution_count": 10,
   "id": "3b350a6a-5be2-4e27-ad00-4946dd44fc1e",
   "metadata": {},
   "outputs": [
    {
     "data": {
      "text/html": [
       "<div>\n",
       "<style scoped>\n",
       "    .dataframe tbody tr th:only-of-type {\n",
       "        vertical-align: middle;\n",
       "    }\n",
       "\n",
       "    .dataframe tbody tr th {\n",
       "        vertical-align: top;\n",
       "    }\n",
       "\n",
       "    .dataframe thead th {\n",
       "        text-align: right;\n",
       "    }\n",
       "</style>\n",
       "<table border=\"1\" class=\"dataframe\">\n",
       "  <thead>\n",
       "    <tr style=\"text-align: right;\">\n",
       "      <th></th>\n",
       "      <th>ds</th>\n",
       "      <th>Rio</th>\n",
       "      <th>y</th>\n",
       "    </tr>\n",
       "  </thead>\n",
       "  <tbody>\n",
       "    <tr>\n",
       "      <th>1</th>\n",
       "      <td>05-04-2024, 14:00:00</td>\n",
       "      <td>sao goncalo</td>\n",
       "      <td>1.94</td>\n",
       "    </tr>\n",
       "    <tr>\n",
       "      <th>3</th>\n",
       "      <td>05-04-2024, 20:00:00</td>\n",
       "      <td>sao goncalo</td>\n",
       "      <td>1.88</td>\n",
       "    </tr>\n",
       "    <tr>\n",
       "      <th>5</th>\n",
       "      <td>05-05-2024, 15:00:00</td>\n",
       "      <td>sao goncalo</td>\n",
       "      <td>2.02</td>\n",
       "    </tr>\n",
       "    <tr>\n",
       "      <th>7</th>\n",
       "      <td>05-05-2024, 20:00:00</td>\n",
       "      <td>sao goncalo</td>\n",
       "      <td>2.03</td>\n",
       "    </tr>\n",
       "    <tr>\n",
       "      <th>9</th>\n",
       "      <td>05-06-2024, 09:00:00</td>\n",
       "      <td>sao goncalo</td>\n",
       "      <td>2.08</td>\n",
       "    </tr>\n",
       "  </tbody>\n",
       "</table>\n",
       "</div>"
      ],
      "text/plain": [
       "                     ds          Rio     y\n",
       "1  05-04-2024, 14:00:00  sao goncalo  1.94\n",
       "3  05-04-2024, 20:00:00  sao goncalo  1.88\n",
       "5  05-05-2024, 15:00:00  sao goncalo  2.02\n",
       "7  05-05-2024, 20:00:00  sao goncalo  2.03\n",
       "9  05-06-2024, 09:00:00  sao goncalo  2.08"
      ]
     },
     "execution_count": 10,
     "metadata": {},
     "output_type": "execute_result"
    }
   ],
   "source": [
    "sao_goncalo_data.head()"
   ]
  },
  {
   "cell_type": "code",
   "execution_count": 12,
   "id": "c2453b9c-2848-40f3-bcf5-9b85fdc07e1c",
   "metadata": {},
   "outputs": [],
   "source": [
    "pos_vento = pd.read_csv(\"data/vento.csv\")\n",
    "\n",
    "pos_vento['ds'] = pd.to_datetime(pos_vento['ds'])\n",
    "\n",
    "pos_vento['ds'] = pos_vento['ds'].dt.strftime('%d-%m-%Y, %H:%M:%S')\n",
    "\n",
    "sao_goncalo_data = pd.merge(sao_goncalo_data, pos_vento, on=\"ds\")"
   ]
  },
  {
   "cell_type": "code",
   "execution_count": 13,
   "id": "652c957e-4c2a-435b-9e48-92ae0d60795c",
   "metadata": {},
   "outputs": [
    {
     "name": "stderr",
     "output_type": "stream",
     "text": [
      "14:25:51 - cmdstanpy - INFO - Chain [1] start processing\n",
      "14:25:51 - cmdstanpy - INFO - Chain [1] done processing\n"
     ]
    },
    {
     "data": {
      "application/vnd.plotly.v1+json": {
       "config": {
        "plotlyServerURL": "https://plot.ly"
       },
       "data": [
        {
         "marker": {
          "color": "black",
          "size": 4
         },
         "mode": "markers",
         "name": "Actual",
         "type": "scatter",
         "x": [
          "2024-05-04T14:00:00",
          "2024-05-04T20:00:00",
          "2024-05-05T15:00:00",
          "2024-05-05T20:00:00",
          "2024-05-06T09:00:00",
          "2024-05-06T14:00:00",
          "2024-05-06T20:00:00",
          "2024-05-07T09:00:00",
          "2024-05-07T17:00:00",
          "2024-05-07T20:00:00",
          "2024-05-08T09:00:00",
          "2024-05-08T12:00:00",
          "2024-05-08T14:00:00",
          "2024-05-08T16:00:00",
          "2024-05-08T21:00:00",
          "2024-05-09T07:00:00",
          "2024-05-09T09:00:00",
          "2024-05-09T12:00:00",
          "2024-05-09T14:00:00",
          "2024-05-09T20:00:00",
          "2024-05-09T22:00:00",
          "2024-05-09T23:00:00",
          "2024-05-10T00:00:00",
          "2024-05-10T03:00:00",
          "2024-05-10T07:00:00",
          "2024-05-10T09:00:00",
          "2024-05-10T10:00:00",
          "2024-05-10T11:00:00",
          "2024-05-10T12:00:00"
         ],
         "y": [
          1.94,
          1.88,
          2.02,
          2.03,
          2.08,
          2.2,
          2.2,
          2.34,
          2.35,
          2.4,
          2.39,
          2.46,
          2.44,
          2.48,
          2.5,
          2.28,
          2.28,
          2.32,
          2.39,
          2.58,
          2.63,
          2.63,
          2.63,
          2.64,
          2.7,
          2.7,
          2.74,
          2.74,
          2.72
         ]
        },
        {
         "hoverinfo": "skip",
         "line": {
          "width": 0
         },
         "mode": "lines",
         "type": "scatter",
         "x": [
          "2024-05-04T14:00:00",
          "2024-05-04T20:00:00",
          "2024-05-05T15:00:00",
          "2024-05-05T20:00:00",
          "2024-05-06T09:00:00",
          "2024-05-06T14:00:00",
          "2024-05-06T20:00:00",
          "2024-05-07T09:00:00",
          "2024-05-07T17:00:00",
          "2024-05-07T20:00:00",
          "2024-05-08T09:00:00",
          "2024-05-08T12:00:00",
          "2024-05-08T14:00:00",
          "2024-05-08T16:00:00",
          "2024-05-08T21:00:00",
          "2024-05-09T07:00:00",
          "2024-05-09T09:00:00",
          "2024-05-09T12:00:00",
          "2024-05-09T14:00:00",
          "2024-05-09T20:00:00",
          "2024-05-09T22:00:00",
          "2024-05-09T23:00:00",
          "2024-05-10T00:00:00",
          "2024-05-10T03:00:00",
          "2024-05-10T07:00:00",
          "2024-05-10T09:00:00",
          "2024-05-10T10:00:00",
          "2024-05-10T11:00:00",
          "2024-05-10T12:00:00",
          "2024-05-10T13:00:00",
          "2024-05-10T14:00:00",
          "2024-05-10T15:00:00",
          "2024-05-10T16:00:00",
          "2024-05-10T17:00:00",
          "2024-05-10T18:00:00",
          "2024-05-10T19:00:00",
          "2024-05-10T20:00:00",
          "2024-05-10T21:00:00",
          "2024-05-10T22:00:00",
          "2024-05-10T23:00:00",
          "2024-05-11T00:00:00"
         ],
         "y": [
          1.8176812890504956,
          1.8763489530070492,
          1.972051988254128,
          1.9977584162827327,
          2.0208034017809626,
          2.0337887207858922,
          2.130189117103416,
          2.154947260200892,
          2.1990159086286365,
          2.2512716512566238,
          2.290417504914996,
          2.2310667100647876,
          2.3286743242041,
          2.4351874923241392,
          2.3137651156289905,
          2.317786198928642,
          2.3072249303650114,
          2.3660955579934906,
          2.3836045887646353,
          2.472551343982824,
          2.5666263152406525,
          2.5607769418796176,
          2.5295103000383103,
          2.553389473622509,
          2.4881632960954234,
          2.616034987547922,
          2.598823721086828,
          2.662020462129,
          2.6613008181006492,
          2.678153537430727,
          2.692847139696491,
          2.7348537336361582,
          2.7628146213553744,
          2.7722762672649472,
          2.7438999097020256,
          2.7431365469840805,
          2.7664021801167262,
          2.788817959360454,
          2.823070731846489,
          2.795609809814699,
          2.7018431713366122
         ]
        },
        {
         "fill": "tonexty",
         "fillcolor": "rgba(0, 114, 178, 0.2)",
         "line": {
          "color": "#0072B2",
          "width": 2
         },
         "mode": "lines",
         "name": "Predicted",
         "type": "scatter",
         "x": [
          "2024-05-04T14:00:00",
          "2024-05-04T20:00:00",
          "2024-05-05T15:00:00",
          "2024-05-05T20:00:00",
          "2024-05-06T09:00:00",
          "2024-05-06T14:00:00",
          "2024-05-06T20:00:00",
          "2024-05-07T09:00:00",
          "2024-05-07T17:00:00",
          "2024-05-07T20:00:00",
          "2024-05-08T09:00:00",
          "2024-05-08T12:00:00",
          "2024-05-08T14:00:00",
          "2024-05-08T16:00:00",
          "2024-05-08T21:00:00",
          "2024-05-09T07:00:00",
          "2024-05-09T09:00:00",
          "2024-05-09T12:00:00",
          "2024-05-09T14:00:00",
          "2024-05-09T20:00:00",
          "2024-05-09T22:00:00",
          "2024-05-09T23:00:00",
          "2024-05-10T00:00:00",
          "2024-05-10T03:00:00",
          "2024-05-10T07:00:00",
          "2024-05-10T09:00:00",
          "2024-05-10T10:00:00",
          "2024-05-10T11:00:00",
          "2024-05-10T12:00:00",
          "2024-05-10T13:00:00",
          "2024-05-10T14:00:00",
          "2024-05-10T15:00:00",
          "2024-05-10T16:00:00",
          "2024-05-10T17:00:00",
          "2024-05-10T18:00:00",
          "2024-05-10T19:00:00",
          "2024-05-10T20:00:00",
          "2024-05-10T21:00:00",
          "2024-05-10T22:00:00",
          "2024-05-10T23:00:00",
          "2024-05-11T00:00:00"
         ],
         "y": [
          1.9000375272084653,
          1.9582789040313233,
          2.0659528314666886,
          2.084081570803283,
          2.1164579383913633,
          2.1178701300554077,
          2.21736718053154,
          2.243941836850877,
          2.2872235595381345,
          2.343597486835275,
          2.3860265062459654,
          2.3171461633520436,
          2.4190383856956603,
          2.522480942988546,
          2.4048059840818166,
          2.40160207641789,
          2.3857742479499557,
          2.4491725621289673,
          2.4729800979029384,
          2.5653378194860674,
          2.6527986767017677,
          2.656837230147925,
          2.6138387800102345,
          2.640611056164278,
          2.579253044406326,
          2.7005234098619337,
          2.6878481661265323,
          2.748913021940198,
          2.749616294386373,
          2.7652465182292345,
          2.784715352754023,
          2.8224428619304405,
          2.8473007130150605,
          2.856099301363825,
          2.833735044144684,
          2.826519397653305,
          2.8553000568820037,
          2.8769152113851937,
          2.9047284342975708,
          2.8818549536669638,
          2.7942907570454194
         ]
        },
        {
         "fill": "tonexty",
         "fillcolor": "rgba(0, 114, 178, 0.2)",
         "hoverinfo": "skip",
         "line": {
          "width": 0
         },
         "mode": "lines",
         "type": "scatter",
         "x": [
          "2024-05-04T14:00:00",
          "2024-05-04T20:00:00",
          "2024-05-05T15:00:00",
          "2024-05-05T20:00:00",
          "2024-05-06T09:00:00",
          "2024-05-06T14:00:00",
          "2024-05-06T20:00:00",
          "2024-05-07T09:00:00",
          "2024-05-07T17:00:00",
          "2024-05-07T20:00:00",
          "2024-05-08T09:00:00",
          "2024-05-08T12:00:00",
          "2024-05-08T14:00:00",
          "2024-05-08T16:00:00",
          "2024-05-08T21:00:00",
          "2024-05-09T07:00:00",
          "2024-05-09T09:00:00",
          "2024-05-09T12:00:00",
          "2024-05-09T14:00:00",
          "2024-05-09T20:00:00",
          "2024-05-09T22:00:00",
          "2024-05-09T23:00:00",
          "2024-05-10T00:00:00",
          "2024-05-10T03:00:00",
          "2024-05-10T07:00:00",
          "2024-05-10T09:00:00",
          "2024-05-10T10:00:00",
          "2024-05-10T11:00:00",
          "2024-05-10T12:00:00",
          "2024-05-10T13:00:00",
          "2024-05-10T14:00:00",
          "2024-05-10T15:00:00",
          "2024-05-10T16:00:00",
          "2024-05-10T17:00:00",
          "2024-05-10T18:00:00",
          "2024-05-10T19:00:00",
          "2024-05-10T20:00:00",
          "2024-05-10T21:00:00",
          "2024-05-10T22:00:00",
          "2024-05-10T23:00:00",
          "2024-05-11T00:00:00"
         ],
         "y": [
          1.9888176483867335,
          2.047167146823744,
          2.1539477411621366,
          2.171654848090381,
          2.2052169177225887,
          2.208423534234853,
          2.307348562547312,
          2.3312828203394904,
          2.3798306546721455,
          2.4327101429178675,
          2.4649232234513345,
          2.40233039484063,
          2.5013591040367014,
          2.615401720082859,
          2.491709640518508,
          2.4874267545738658,
          2.4764498491910847,
          2.5343853842691377,
          2.560638498078073,
          2.652811966597032,
          2.736620704582393,
          2.7472243274164656,
          2.69918164438567,
          2.7249033531296982,
          2.6715878326206717,
          2.790524187548488,
          2.7751003124573232,
          2.838894586335001,
          2.8388053795149406,
          2.8525292880923363,
          2.871116840905468,
          2.9079357608926317,
          2.93734898720398,
          2.9519410851555437,
          2.917926656677415,
          2.9080456890936035,
          2.9388325403604405,
          2.9674724000330115,
          2.993275385954326,
          2.9663581969306247,
          2.8809554519214173
         ]
        }
       ],
       "layout": {
        "height": 600,
        "showlegend": false,
        "template": {
         "data": {
          "bar": [
           {
            "error_x": {
             "color": "#2a3f5f"
            },
            "error_y": {
             "color": "#2a3f5f"
            },
            "marker": {
             "line": {
              "color": "#E5ECF6",
              "width": 0.5
             },
             "pattern": {
              "fillmode": "overlay",
              "size": 10,
              "solidity": 0.2
             }
            },
            "type": "bar"
           }
          ],
          "barpolar": [
           {
            "marker": {
             "line": {
              "color": "#E5ECF6",
              "width": 0.5
             },
             "pattern": {
              "fillmode": "overlay",
              "size": 10,
              "solidity": 0.2
             }
            },
            "type": "barpolar"
           }
          ],
          "carpet": [
           {
            "aaxis": {
             "endlinecolor": "#2a3f5f",
             "gridcolor": "white",
             "linecolor": "white",
             "minorgridcolor": "white",
             "startlinecolor": "#2a3f5f"
            },
            "baxis": {
             "endlinecolor": "#2a3f5f",
             "gridcolor": "white",
             "linecolor": "white",
             "minorgridcolor": "white",
             "startlinecolor": "#2a3f5f"
            },
            "type": "carpet"
           }
          ],
          "choropleth": [
           {
            "colorbar": {
             "outlinewidth": 0,
             "ticks": ""
            },
            "type": "choropleth"
           }
          ],
          "contour": [
           {
            "colorbar": {
             "outlinewidth": 0,
             "ticks": ""
            },
            "colorscale": [
             [
              0,
              "#0d0887"
             ],
             [
              0.1111111111111111,
              "#46039f"
             ],
             [
              0.2222222222222222,
              "#7201a8"
             ],
             [
              0.3333333333333333,
              "#9c179e"
             ],
             [
              0.4444444444444444,
              "#bd3786"
             ],
             [
              0.5555555555555556,
              "#d8576b"
             ],
             [
              0.6666666666666666,
              "#ed7953"
             ],
             [
              0.7777777777777778,
              "#fb9f3a"
             ],
             [
              0.8888888888888888,
              "#fdca26"
             ],
             [
              1,
              "#f0f921"
             ]
            ],
            "type": "contour"
           }
          ],
          "contourcarpet": [
           {
            "colorbar": {
             "outlinewidth": 0,
             "ticks": ""
            },
            "type": "contourcarpet"
           }
          ],
          "heatmap": [
           {
            "colorbar": {
             "outlinewidth": 0,
             "ticks": ""
            },
            "colorscale": [
             [
              0,
              "#0d0887"
             ],
             [
              0.1111111111111111,
              "#46039f"
             ],
             [
              0.2222222222222222,
              "#7201a8"
             ],
             [
              0.3333333333333333,
              "#9c179e"
             ],
             [
              0.4444444444444444,
              "#bd3786"
             ],
             [
              0.5555555555555556,
              "#d8576b"
             ],
             [
              0.6666666666666666,
              "#ed7953"
             ],
             [
              0.7777777777777778,
              "#fb9f3a"
             ],
             [
              0.8888888888888888,
              "#fdca26"
             ],
             [
              1,
              "#f0f921"
             ]
            ],
            "type": "heatmap"
           }
          ],
          "heatmapgl": [
           {
            "colorbar": {
             "outlinewidth": 0,
             "ticks": ""
            },
            "colorscale": [
             [
              0,
              "#0d0887"
             ],
             [
              0.1111111111111111,
              "#46039f"
             ],
             [
              0.2222222222222222,
              "#7201a8"
             ],
             [
              0.3333333333333333,
              "#9c179e"
             ],
             [
              0.4444444444444444,
              "#bd3786"
             ],
             [
              0.5555555555555556,
              "#d8576b"
             ],
             [
              0.6666666666666666,
              "#ed7953"
             ],
             [
              0.7777777777777778,
              "#fb9f3a"
             ],
             [
              0.8888888888888888,
              "#fdca26"
             ],
             [
              1,
              "#f0f921"
             ]
            ],
            "type": "heatmapgl"
           }
          ],
          "histogram": [
           {
            "marker": {
             "pattern": {
              "fillmode": "overlay",
              "size": 10,
              "solidity": 0.2
             }
            },
            "type": "histogram"
           }
          ],
          "histogram2d": [
           {
            "colorbar": {
             "outlinewidth": 0,
             "ticks": ""
            },
            "colorscale": [
             [
              0,
              "#0d0887"
             ],
             [
              0.1111111111111111,
              "#46039f"
             ],
             [
              0.2222222222222222,
              "#7201a8"
             ],
             [
              0.3333333333333333,
              "#9c179e"
             ],
             [
              0.4444444444444444,
              "#bd3786"
             ],
             [
              0.5555555555555556,
              "#d8576b"
             ],
             [
              0.6666666666666666,
              "#ed7953"
             ],
             [
              0.7777777777777778,
              "#fb9f3a"
             ],
             [
              0.8888888888888888,
              "#fdca26"
             ],
             [
              1,
              "#f0f921"
             ]
            ],
            "type": "histogram2d"
           }
          ],
          "histogram2dcontour": [
           {
            "colorbar": {
             "outlinewidth": 0,
             "ticks": ""
            },
            "colorscale": [
             [
              0,
              "#0d0887"
             ],
             [
              0.1111111111111111,
              "#46039f"
             ],
             [
              0.2222222222222222,
              "#7201a8"
             ],
             [
              0.3333333333333333,
              "#9c179e"
             ],
             [
              0.4444444444444444,
              "#bd3786"
             ],
             [
              0.5555555555555556,
              "#d8576b"
             ],
             [
              0.6666666666666666,
              "#ed7953"
             ],
             [
              0.7777777777777778,
              "#fb9f3a"
             ],
             [
              0.8888888888888888,
              "#fdca26"
             ],
             [
              1,
              "#f0f921"
             ]
            ],
            "type": "histogram2dcontour"
           }
          ],
          "mesh3d": [
           {
            "colorbar": {
             "outlinewidth": 0,
             "ticks": ""
            },
            "type": "mesh3d"
           }
          ],
          "parcoords": [
           {
            "line": {
             "colorbar": {
              "outlinewidth": 0,
              "ticks": ""
             }
            },
            "type": "parcoords"
           }
          ],
          "pie": [
           {
            "automargin": true,
            "type": "pie"
           }
          ],
          "scatter": [
           {
            "fillpattern": {
             "fillmode": "overlay",
             "size": 10,
             "solidity": 0.2
            },
            "type": "scatter"
           }
          ],
          "scatter3d": [
           {
            "line": {
             "colorbar": {
              "outlinewidth": 0,
              "ticks": ""
             }
            },
            "marker": {
             "colorbar": {
              "outlinewidth": 0,
              "ticks": ""
             }
            },
            "type": "scatter3d"
           }
          ],
          "scattercarpet": [
           {
            "marker": {
             "colorbar": {
              "outlinewidth": 0,
              "ticks": ""
             }
            },
            "type": "scattercarpet"
           }
          ],
          "scattergeo": [
           {
            "marker": {
             "colorbar": {
              "outlinewidth": 0,
              "ticks": ""
             }
            },
            "type": "scattergeo"
           }
          ],
          "scattergl": [
           {
            "marker": {
             "colorbar": {
              "outlinewidth": 0,
              "ticks": ""
             }
            },
            "type": "scattergl"
           }
          ],
          "scattermapbox": [
           {
            "marker": {
             "colorbar": {
              "outlinewidth": 0,
              "ticks": ""
             }
            },
            "type": "scattermapbox"
           }
          ],
          "scatterpolar": [
           {
            "marker": {
             "colorbar": {
              "outlinewidth": 0,
              "ticks": ""
             }
            },
            "type": "scatterpolar"
           }
          ],
          "scatterpolargl": [
           {
            "marker": {
             "colorbar": {
              "outlinewidth": 0,
              "ticks": ""
             }
            },
            "type": "scatterpolargl"
           }
          ],
          "scatterternary": [
           {
            "marker": {
             "colorbar": {
              "outlinewidth": 0,
              "ticks": ""
             }
            },
            "type": "scatterternary"
           }
          ],
          "surface": [
           {
            "colorbar": {
             "outlinewidth": 0,
             "ticks": ""
            },
            "colorscale": [
             [
              0,
              "#0d0887"
             ],
             [
              0.1111111111111111,
              "#46039f"
             ],
             [
              0.2222222222222222,
              "#7201a8"
             ],
             [
              0.3333333333333333,
              "#9c179e"
             ],
             [
              0.4444444444444444,
              "#bd3786"
             ],
             [
              0.5555555555555556,
              "#d8576b"
             ],
             [
              0.6666666666666666,
              "#ed7953"
             ],
             [
              0.7777777777777778,
              "#fb9f3a"
             ],
             [
              0.8888888888888888,
              "#fdca26"
             ],
             [
              1,
              "#f0f921"
             ]
            ],
            "type": "surface"
           }
          ],
          "table": [
           {
            "cells": {
             "fill": {
              "color": "#EBF0F8"
             },
             "line": {
              "color": "white"
             }
            },
            "header": {
             "fill": {
              "color": "#C8D4E3"
             },
             "line": {
              "color": "white"
             }
            },
            "type": "table"
           }
          ]
         },
         "layout": {
          "annotationdefaults": {
           "arrowcolor": "#2a3f5f",
           "arrowhead": 0,
           "arrowwidth": 1
          },
          "autotypenumbers": "strict",
          "coloraxis": {
           "colorbar": {
            "outlinewidth": 0,
            "ticks": ""
           }
          },
          "colorscale": {
           "diverging": [
            [
             0,
             "#8e0152"
            ],
            [
             0.1,
             "#c51b7d"
            ],
            [
             0.2,
             "#de77ae"
            ],
            [
             0.3,
             "#f1b6da"
            ],
            [
             0.4,
             "#fde0ef"
            ],
            [
             0.5,
             "#f7f7f7"
            ],
            [
             0.6,
             "#e6f5d0"
            ],
            [
             0.7,
             "#b8e186"
            ],
            [
             0.8,
             "#7fbc41"
            ],
            [
             0.9,
             "#4d9221"
            ],
            [
             1,
             "#276419"
            ]
           ],
           "sequential": [
            [
             0,
             "#0d0887"
            ],
            [
             0.1111111111111111,
             "#46039f"
            ],
            [
             0.2222222222222222,
             "#7201a8"
            ],
            [
             0.3333333333333333,
             "#9c179e"
            ],
            [
             0.4444444444444444,
             "#bd3786"
            ],
            [
             0.5555555555555556,
             "#d8576b"
            ],
            [
             0.6666666666666666,
             "#ed7953"
            ],
            [
             0.7777777777777778,
             "#fb9f3a"
            ],
            [
             0.8888888888888888,
             "#fdca26"
            ],
            [
             1,
             "#f0f921"
            ]
           ],
           "sequentialminus": [
            [
             0,
             "#0d0887"
            ],
            [
             0.1111111111111111,
             "#46039f"
            ],
            [
             0.2222222222222222,
             "#7201a8"
            ],
            [
             0.3333333333333333,
             "#9c179e"
            ],
            [
             0.4444444444444444,
             "#bd3786"
            ],
            [
             0.5555555555555556,
             "#d8576b"
            ],
            [
             0.6666666666666666,
             "#ed7953"
            ],
            [
             0.7777777777777778,
             "#fb9f3a"
            ],
            [
             0.8888888888888888,
             "#fdca26"
            ],
            [
             1,
             "#f0f921"
            ]
           ]
          },
          "colorway": [
           "#636efa",
           "#EF553B",
           "#00cc96",
           "#ab63fa",
           "#FFA15A",
           "#19d3f3",
           "#FF6692",
           "#B6E880",
           "#FF97FF",
           "#FECB52"
          ],
          "font": {
           "color": "#2a3f5f"
          },
          "geo": {
           "bgcolor": "white",
           "lakecolor": "white",
           "landcolor": "#E5ECF6",
           "showlakes": true,
           "showland": true,
           "subunitcolor": "white"
          },
          "hoverlabel": {
           "align": "left"
          },
          "hovermode": "closest",
          "mapbox": {
           "style": "light"
          },
          "paper_bgcolor": "white",
          "plot_bgcolor": "#E5ECF6",
          "polar": {
           "angularaxis": {
            "gridcolor": "white",
            "linecolor": "white",
            "ticks": ""
           },
           "bgcolor": "#E5ECF6",
           "radialaxis": {
            "gridcolor": "white",
            "linecolor": "white",
            "ticks": ""
           }
          },
          "scene": {
           "xaxis": {
            "backgroundcolor": "#E5ECF6",
            "gridcolor": "white",
            "gridwidth": 2,
            "linecolor": "white",
            "showbackground": true,
            "ticks": "",
            "zerolinecolor": "white"
           },
           "yaxis": {
            "backgroundcolor": "#E5ECF6",
            "gridcolor": "white",
            "gridwidth": 2,
            "linecolor": "white",
            "showbackground": true,
            "ticks": "",
            "zerolinecolor": "white"
           },
           "zaxis": {
            "backgroundcolor": "#E5ECF6",
            "gridcolor": "white",
            "gridwidth": 2,
            "linecolor": "white",
            "showbackground": true,
            "ticks": "",
            "zerolinecolor": "white"
           }
          },
          "shapedefaults": {
           "line": {
            "color": "#2a3f5f"
           }
          },
          "ternary": {
           "aaxis": {
            "gridcolor": "white",
            "linecolor": "white",
            "ticks": ""
           },
           "baxis": {
            "gridcolor": "white",
            "linecolor": "white",
            "ticks": ""
           },
           "bgcolor": "#E5ECF6",
           "caxis": {
            "gridcolor": "white",
            "linecolor": "white",
            "ticks": ""
           }
          },
          "title": {
           "x": 0.05
          },
          "xaxis": {
           "automargin": true,
           "gridcolor": "white",
           "linecolor": "white",
           "ticks": "",
           "title": {
            "standoff": 15
           },
           "zerolinecolor": "white",
           "zerolinewidth": 2
          },
          "yaxis": {
           "automargin": true,
           "gridcolor": "white",
           "linecolor": "white",
           "ticks": "",
           "title": {
            "standoff": 15
           },
           "zerolinecolor": "white",
           "zerolinewidth": 2
          }
         }
        },
        "width": 900,
        "xaxis": {
         "autorange": true,
         "range": [
          "2024-05-04 05:12",
          "2024-05-11"
         ],
         "rangeselector": {
          "buttons": [
           {
            "count": 7,
            "label": "1w",
            "step": "day",
            "stepmode": "backward"
           },
           {
            "count": 1,
            "label": "1m",
            "step": "month",
            "stepmode": "backward"
           },
           {
            "count": 6,
            "label": "6m",
            "step": "month",
            "stepmode": "backward"
           },
           {
            "count": 1,
            "label": "1y",
            "step": "year",
            "stepmode": "backward"
           },
           {
            "step": "all"
           }
          ]
         },
         "rangeslider": {
          "autorange": true,
          "range": [
           "2024-05-04 05:12",
           "2024-05-11"
          ],
          "visible": true,
          "yaxis": {
           "_template": null,
           "rangemode": "match"
          }
         },
         "title": {
          "text": "ds"
         },
         "type": "date"
        },
        "yaxis": {
         "autorange": true,
         "range": [
          1.7523705058891716,
          3.05858616911565
         ],
         "title": {
          "text": "y"
         },
         "type": "linear"
        }
       }
      },
      "image/png": "[encoded data removed]",
      "text/html": [
       "<div>                            <div id=\"63a3ffc4-a9e5-4969-b908-48c0444ffa85\" class=\"plotly-graph-div\" style=\"height:600px; width:900px;\"></div>            <script type=\"text/javascript\">                require([\"plotly\"], function(Plotly) {                    window.PLOTLYENV=window.PLOTLYENV || {};                                    if (document.getElementById(\"63a3ffc4-a9e5-4969-b908-48c0444ffa85\")) {                    Plotly.newPlot(                        \"63a3ffc4-a9e5-4969-b908-48c0444ffa85\",                        [{\"marker\":{\"color\":\"black\",\"size\":4},\"mode\":\"markers\",\"name\":\"Actual\",\"x\":[\"2024-05-04T14:00:00\",\"2024-05-04T20:00:00\",\"2024-05-05T15:00:00\",\"2024-05-05T20:00:00\",\"2024-05-06T09:00:00\",\"2024-05-06T14:00:00\",\"2024-05-06T20:00:00\",\"2024-05-07T09:00:00\",\"2024-05-07T17:00:00\",\"2024-05-07T20:00:00\",\"2024-05-08T09:00:00\",\"2024-05-08T12:00:00\",\"2024-05-08T14:00:00\",\"2024-05-08T16:00:00\",\"2024-05-08T21:00:00\",\"2024-05-09T07:00:00\",\"2024-05-09T09:00:00\",\"2024-05-09T12:00:00\",\"2024-05-09T14:00:00\",\"2024-05-09T20:00:00\",\"2024-05-09T22:00:00\",\"2024-05-09T23:00:00\",\"2024-05-10T00:00:00\",\"2024-05-10T03:00:00\",\"2024-05-10T07:00:00\",\"2024-05-10T09:00:00\",\"2024-05-10T10:00:00\",\"2024-05-10T11:00:00\",\"2024-05-10T12:00:00\"],\"y\":[1.94,1.88,2.02,2.03,2.08,2.2,2.2,2.34,2.35,2.4,2.39,2.46,2.44,2.48,2.5,2.28,2.28,2.32,2.39,2.58,2.63,2.63,2.63,2.64,2.7,2.7,2.74,2.74,2.72],\"type\":\"scatter\"},{\"hoverinfo\":\"skip\",\"line\":{\"width\":0},\"mode\":\"lines\",\"x\":[\"2024-05-04T14:00:00\",\"2024-05-04T20:00:00\",\"2024-05-05T15:00:00\",\"2024-05-05T20:00:00\",\"2024-05-06T09:00:00\",\"2024-05-06T14:00:00\",\"2024-05-06T20:00:00\",\"2024-05-07T09:00:00\",\"2024-05-07T17:00:00\",\"2024-05-07T20:00:00\",\"2024-05-08T09:00:00\",\"2024-05-08T12:00:00\",\"2024-05-08T14:00:00\",\"2024-05-08T16:00:00\",\"2024-05-08T21:00:00\",\"2024-05-09T07:00:00\",\"2024-05-09T09:00:00\",\"2024-05-09T12:00:00\",\"2024-05-09T14:00:00\",\"2024-05-09T20:00:00\",\"2024-05-09T22:00:00\",\"2024-05-09T23:00:00\",\"2024-05-10T00:00:00\",\"2024-05-10T03:00:00\",\"2024-05-10T07:00:00\",\"2024-05-10T09:00:00\",\"2024-05-10T10:00:00\",\"2024-05-10T11:00:00\",\"2024-05-10T12:00:00\",\"2024-05-10T13:00:00\",\"2024-05-10T14:00:00\",\"2024-05-10T15:00:00\",\"2024-05-10T16:00:00\",\"2024-05-10T17:00:00\",\"2024-05-10T18:00:00\",\"2024-05-10T19:00:00\",\"2024-05-10T20:00:00\",\"2024-05-10T21:00:00\",\"2024-05-10T22:00:00\",\"2024-05-10T23:00:00\",\"2024-05-11T00:00:00\"],\"y\":[1.8176812890504956,1.8763489530070492,1.972051988254128,1.9977584162827327,2.0208034017809626,2.0337887207858922,2.130189117103416,2.154947260200892,2.1990159086286365,2.2512716512566238,2.290417504914996,2.2310667100647876,2.3286743242041,2.4351874923241392,2.3137651156289905,2.317786198928642,2.3072249303650114,2.3660955579934906,2.3836045887646353,2.472551343982824,2.5666263152406525,2.5607769418796176,2.5295103000383103,2.553389473622509,2.4881632960954234,2.616034987547922,2.598823721086828,2.662020462129,2.6613008181006492,2.678153537430727,2.692847139696491,2.7348537336361582,2.7628146213553744,2.7722762672649472,2.7438999097020256,2.7431365469840805,2.7664021801167262,2.788817959360454,2.823070731846489,2.795609809814699,2.7018431713366122],\"type\":\"scatter\"},{\"fill\":\"tonexty\",\"fillcolor\":\"rgba(0, 114, 178, 0.2)\",\"line\":{\"color\":\"#0072B2\",\"width\":2},\"mode\":\"lines\",\"name\":\"Predicted\",\"x\":[\"2024-05-04T14:00:00\",\"2024-05-04T20:00:00\",\"2024-05-05T15:00:00\",\"2024-05-05T20:00:00\",\"2024-05-06T09:00:00\",\"2024-05-06T14:00:00\",\"2024-05-06T20:00:00\",\"2024-05-07T09:00:00\",\"2024-05-07T17:00:00\",\"2024-05-07T20:00:00\",\"2024-05-08T09:00:00\",\"2024-05-08T12:00:00\",\"2024-05-08T14:00:00\",\"2024-05-08T16:00:00\",\"2024-05-08T21:00:00\",\"2024-05-09T07:00:00\",\"2024-05-09T09:00:00\",\"2024-05-09T12:00:00\",\"2024-05-09T14:00:00\",\"2024-05-09T20:00:00\",\"2024-05-09T22:00:00\",\"2024-05-09T23:00:00\",\"2024-05-10T00:00:00\",\"2024-05-10T03:00:00\",\"2024-05-10T07:00:00\",\"2024-05-10T09:00:00\",\"2024-05-10T10:00:00\",\"2024-05-10T11:00:00\",\"2024-05-10T12:00:00\",\"2024-05-10T13:00:00\",\"2024-05-10T14:00:00\",\"2024-05-10T15:00:00\",\"2024-05-10T16:00:00\",\"2024-05-10T17:00:00\",\"2024-05-10T18:00:00\",\"2024-05-10T19:00:00\",\"2024-05-10T20:00:00\",\"2024-05-10T21:00:00\",\"2024-05-10T22:00:00\",\"2024-05-10T23:00:00\",\"2024-05-11T00:00:00\"],\"y\":[1.9000375272084653,1.9582789040313233,2.0659528314666886,2.084081570803283,2.1164579383913633,2.1178701300554077,2.21736718053154,2.243941836850877,2.2872235595381345,2.343597486835275,2.3860265062459654,2.3171461633520436,2.4190383856956603,2.522480942988546,2.4048059840818166,2.40160207641789,2.3857742479499557,2.4491725621289673,2.4729800979029384,2.5653378194860674,2.6527986767017677,2.656837230147925,2.6138387800102345,2.640611056164278,2.579253044406326,2.7005234098619337,2.6878481661265323,2.748913021940198,2.749616294386373,2.7652465182292345,2.784715352754023,2.8224428619304405,2.8473007130150605,2.856099301363825,2.833735044144684,2.826519397653305,2.8553000568820037,2.8769152113851937,2.9047284342975708,2.8818549536669638,2.7942907570454194],\"type\":\"scatter\"},{\"fill\":\"tonexty\",\"fillcolor\":\"rgba(0, 114, 178, 0.2)\",\"hoverinfo\":\"skip\",\"line\":{\"width\":0},\"mode\":\"lines\",\"x\":[\"2024-05-04T14:00:00\",\"2024-05-04T20:00:00\",\"2024-05-05T15:00:00\",\"2024-05-05T20:00:00\",\"2024-05-06T09:00:00\",\"2024-05-06T14:00:00\",\"2024-05-06T20:00:00\",\"2024-05-07T09:00:00\",\"2024-05-07T17:00:00\",\"2024-05-07T20:00:00\",\"2024-05-08T09:00:00\",\"2024-05-08T12:00:00\",\"2024-05-08T14:00:00\",\"2024-05-08T16:00:00\",\"2024-05-08T21:00:00\",\"2024-05-09T07:00:00\",\"2024-05-09T09:00:00\",\"2024-05-09T12:00:00\",\"2024-05-09T14:00:00\",\"2024-05-09T20:00:00\",\"2024-05-09T22:00:00\",\"2024-05-09T23:00:00\",\"2024-05-10T00:00:00\",\"2024-05-10T03:00:00\",\"2024-05-10T07:00:00\",\"2024-05-10T09:00:00\",\"2024-05-10T10:00:00\",\"2024-05-10T11:00:00\",\"2024-05-10T12:00:00\",\"2024-05-10T13:00:00\",\"2024-05-10T14:00:00\",\"2024-05-10T15:00:00\",\"2024-05-10T16:00:00\",\"2024-05-10T17:00:00\",\"2024-05-10T18:00:00\",\"2024-05-10T19:00:00\",\"2024-05-10T20:00:00\",\"2024-05-10T21:00:00\",\"2024-05-10T22:00:00\",\"2024-05-10T23:00:00\",\"2024-05-11T00:00:00\"],\"y\":[1.9888176483867335,2.047167146823744,2.1539477411621366,2.171654848090381,2.2052169177225887,2.208423534234853,2.307348562547312,2.3312828203394904,2.3798306546721455,2.4327101429178675,2.4649232234513345,2.40233039484063,2.5013591040367014,2.615401720082859,2.491709640518508,2.4874267545738658,2.4764498491910847,2.5343853842691377,2.560638498078073,2.652811966597032,2.736620704582393,2.7472243274164656,2.69918164438567,2.7249033531296982,2.6715878326206717,2.790524187548488,2.7751003124573232,2.838894586335001,2.8388053795149406,2.8525292880923363,2.871116840905468,2.9079357608926317,2.93734898720398,2.9519410851555437,2.917926656677415,2.9080456890936035,2.9388325403604405,2.9674724000330115,2.993275385954326,2.9663581969306247,2.8809554519214173],\"type\":\"scatter\"}],                        {\"height\":600,\"showlegend\":false,\"width\":900,\"xaxis\":{\"rangeselector\":{\"buttons\":[{\"count\":7,\"label\":\"1w\",\"step\":\"day\",\"stepmode\":\"backward\"},{\"count\":1,\"label\":\"1m\",\"step\":\"month\",\"stepmode\":\"backward\"},{\"count\":6,\"label\":\"6m\",\"step\":\"month\",\"stepmode\":\"backward\"},{\"count\":1,\"label\":\"1y\",\"step\":\"year\",\"stepmode\":\"backward\"},{\"step\":\"all\"}]},\"rangeslider\":{\"visible\":true},\"title\":{\"text\":\"ds\"},\"type\":\"date\"},\"yaxis\":{\"title\":{\"text\":\"y\"}},\"template\":{\"data\":{\"histogram2dcontour\":[{\"type\":\"histogram2dcontour\",\"colorbar\":{\"outlinewidth\":0,\"ticks\":\"\"},\"colorscale\":[[0.0,\"#0d0887\"],[0.1111111111111111,\"#46039f\"],[0.2222222222222222,\"#7201a8\"],[0.3333333333333333,\"#9c179e\"],[0.4444444444444444,\"#bd3786\"],[0.5555555555555556,\"#d8576b\"],[0.6666666666666666,\"#ed7953\"],[0.7777777777777778,\"#fb9f3a\"],[0.8888888888888888,\"#fdca26\"],[1.0,\"#f0f921\"]]}],\"choropleth\":[{\"type\":\"choropleth\",\"colorbar\":{\"outlinewidth\":0,\"ticks\":\"\"}}],\"histogram2d\":[{\"type\":\"histogram2d\",\"colorbar\":{\"outlinewidth\":0,\"ticks\":\"\"},\"colorscale\":[[0.0,\"#0d0887\"],[0.1111111111111111,\"#46039f\"],[0.2222222222222222,\"#7201a8\"],[0.3333333333333333,\"#9c179e\"],[0.4444444444444444,\"#bd3786\"],[0.5555555555555556,\"#d8576b\"],[0.6666666666666666,\"#ed7953\"],[0.7777777777777778,\"#fb9f3a\"],[0.8888888888888888,\"#fdca26\"],[1.0,\"#f0f921\"]]}],\"heatmap\":[{\"type\":\"heatmap\",\"colorbar\":{\"outlinewidth\":0,\"ticks\":\"\"},\"colorscale\":[[0.0,\"#0d0887\"],[0.1111111111111111,\"#46039f\"],[0.2222222222222222,\"#7201a8\"],[0.3333333333333333,\"#9c179e\"],[0.4444444444444444,\"#bd3786\"],[0.5555555555555556,\"#d8576b\"],[0.6666666666666666,\"#ed7953\"],[0.7777777777777778,\"#fb9f3a\"],[0.8888888888888888,\"#fdca26\"],[1.0,\"#f0f921\"]]}],\"heatmapgl\":[{\"type\":\"heatmapgl\",\"colorbar\":{\"outlinewidth\":0,\"ticks\":\"\"},\"colorscale\":[[0.0,\"#0d0887\"],[0.1111111111111111,\"#46039f\"],[0.2222222222222222,\"#7201a8\"],[0.3333333333333333,\"#9c179e\"],[0.4444444444444444,\"#bd3786\"],[0.5555555555555556,\"#d8576b\"],[0.6666666666666666,\"#ed7953\"],[0.7777777777777778,\"#fb9f3a\"],[0.8888888888888888,\"#fdca26\"],[1.0,\"#f0f921\"]]}],\"contourcarpet\":[{\"type\":\"contourcarpet\",\"colorbar\":{\"outlinewidth\":0,\"ticks\":\"\"}}],\"contour\":[{\"type\":\"contour\",\"colorbar\":{\"outlinewidth\":0,\"ticks\":\"\"},\"colorscale\":[[0.0,\"#0d0887\"],[0.1111111111111111,\"#46039f\"],[0.2222222222222222,\"#7201a8\"],[0.3333333333333333,\"#9c179e\"],[0.4444444444444444,\"#bd3786\"],[0.5555555555555556,\"#d8576b\"],[0.6666666666666666,\"#ed7953\"],[0.7777777777777778,\"#fb9f3a\"],[0.8888888888888888,\"#fdca26\"],[1.0,\"#f0f921\"]]}],\"surface\":[{\"type\":\"surface\",\"colorbar\":{\"outlinewidth\":0,\"ticks\":\"\"},\"colorscale\":[[0.0,\"#0d0887\"],[0.1111111111111111,\"#46039f\"],[0.2222222222222222,\"#7201a8\"],[0.3333333333333333,\"#9c179e\"],[0.4444444444444444,\"#bd3786\"],[0.5555555555555556,\"#d8576b\"],[0.6666666666666666,\"#ed7953\"],[0.7777777777777778,\"#fb9f3a\"],[0.8888888888888888,\"#fdca26\"],[1.0,\"#f0f921\"]]}],\"mesh3d\":[{\"type\":\"mesh3d\",\"colorbar\":{\"outlinewidth\":0,\"ticks\":\"\"}}],\"scatter\":[{\"fillpattern\":{\"fillmode\":\"overlay\",\"size\":10,\"solidity\":0.2},\"type\":\"scatter\"}],\"parcoords\":[{\"type\":\"parcoords\",\"line\":{\"colorbar\":{\"outlinewidth\":0,\"ticks\":\"\"}}}],\"scatterpolargl\":[{\"type\":\"scatterpolargl\",\"marker\":{\"colorbar\":{\"outlinewidth\":0,\"ticks\":\"\"}}}],\"bar\":[{\"error_x\":{\"color\":\"#2a3f5f\"},\"error_y\":{\"color\":\"#2a3f5f\"},\"marker\":{\"line\":{\"color\":\"#E5ECF6\",\"width\":0.5},\"pattern\":{\"fillmode\":\"overlay\",\"size\":10,\"solidity\":0.2}},\"type\":\"bar\"}],\"scattergeo\":[{\"type\":\"scattergeo\",\"marker\":{\"colorbar\":{\"outlinewidth\":0,\"ticks\":\"\"}}}],\"scatterpolar\":[{\"type\":\"scatterpolar\",\"marker\":{\"colorbar\":{\"outlinewidth\":0,\"ticks\":\"\"}}}],\"histogram\":[{\"marker\":{\"pattern\":{\"fillmode\":\"overlay\",\"size\":10,\"solidity\":0.2}},\"type\":\"histogram\"}],\"scattergl\":[{\"type\":\"scattergl\",\"marker\":{\"colorbar\":{\"outlinewidth\":0,\"ticks\":\"\"}}}],\"scatter3d\":[{\"type\":\"scatter3d\",\"line\":{\"colorbar\":{\"outlinewidth\":0,\"ticks\":\"\"}},\"marker\":{\"colorbar\":{\"outlinewidth\":0,\"ticks\":\"\"}}}],\"scattermapbox\":[{\"type\":\"scattermapbox\",\"marker\":{\"colorbar\":{\"outlinewidth\":0,\"ticks\":\"\"}}}],\"scatterternary\":[{\"type\":\"scatterternary\",\"marker\":{\"colorbar\":{\"outlinewidth\":0,\"ticks\":\"\"}}}],\"scattercarpet\":[{\"type\":\"scattercarpet\",\"marker\":{\"colorbar\":{\"outlinewidth\":0,\"ticks\":\"\"}}}],\"carpet\":[{\"aaxis\":{\"endlinecolor\":\"#2a3f5f\",\"gridcolor\":\"white\",\"linecolor\":\"white\",\"minorgridcolor\":\"white\",\"startlinecolor\":\"#2a3f5f\"},\"baxis\":{\"endlinecolor\":\"#2a3f5f\",\"gridcolor\":\"white\",\"linecolor\":\"white\",\"minorgridcolor\":\"white\",\"startlinecolor\":\"#2a3f5f\"},\"type\":\"carpet\"}],\"table\":[{\"cells\":{\"fill\":{\"color\":\"#EBF0F8\"},\"line\":{\"color\":\"white\"}},\"header\":{\"fill\":{\"color\":\"#C8D4E3\"},\"line\":{\"color\":\"white\"}},\"type\":\"table\"}],\"barpolar\":[{\"marker\":{\"line\":{\"color\":\"#E5ECF6\",\"width\":0.5},\"pattern\":{\"fillmode\":\"overlay\",\"size\":10,\"solidity\":0.2}},\"type\":\"barpolar\"}],\"pie\":[{\"automargin\":true,\"type\":\"pie\"}]},\"layout\":{\"autotypenumbers\":\"strict\",\"colorway\":[\"#636efa\",\"#EF553B\",\"#00cc96\",\"#ab63fa\",\"#FFA15A\",\"#19d3f3\",\"#FF6692\",\"#B6E880\",\"#FF97FF\",\"#FECB52\"],\"font\":{\"color\":\"#2a3f5f\"},\"hovermode\":\"closest\",\"hoverlabel\":{\"align\":\"left\"},\"paper_bgcolor\":\"white\",\"plot_bgcolor\":\"#E5ECF6\",\"polar\":{\"bgcolor\":\"#E5ECF6\",\"angularaxis\":{\"gridcolor\":\"white\",\"linecolor\":\"white\",\"ticks\":\"\"},\"radialaxis\":{\"gridcolor\":\"white\",\"linecolor\":\"white\",\"ticks\":\"\"}},\"ternary\":{\"bgcolor\":\"#E5ECF6\",\"aaxis\":{\"gridcolor\":\"white\",\"linecolor\":\"white\",\"ticks\":\"\"},\"baxis\":{\"gridcolor\":\"white\",\"linecolor\":\"white\",\"ticks\":\"\"},\"caxis\":{\"gridcolor\":\"white\",\"linecolor\":\"white\",\"ticks\":\"\"}},\"coloraxis\":{\"colorbar\":{\"outlinewidth\":0,\"ticks\":\"\"}},\"colorscale\":{\"sequential\":[[0.0,\"#0d0887\"],[0.1111111111111111,\"#46039f\"],[0.2222222222222222,\"#7201a8\"],[0.3333333333333333,\"#9c179e\"],[0.4444444444444444,\"#bd3786\"],[0.5555555555555556,\"#d8576b\"],[0.6666666666666666,\"#ed7953\"],[0.7777777777777778,\"#fb9f3a\"],[0.8888888888888888,\"#fdca26\"],[1.0,\"#f0f921\"]],\"sequentialminus\":[[0.0,\"#0d0887\"],[0.1111111111111111,\"#46039f\"],[0.2222222222222222,\"#7201a8\"],[0.3333333333333333,\"#9c179e\"],[0.4444444444444444,\"#bd3786\"],[0.5555555555555556,\"#d8576b\"],[0.6666666666666666,\"#ed7953\"],[0.7777777777777778,\"#fb9f3a\"],[0.8888888888888888,\"#fdca26\"],[1.0,\"#f0f921\"]],\"diverging\":[[0,\"#8e0152\"],[0.1,\"#c51b7d\"],[0.2,\"#de77ae\"],[0.3,\"#f1b6da\"],[0.4,\"#fde0ef\"],[0.5,\"#f7f7f7\"],[0.6,\"#e6f5d0\"],[0.7,\"#b8e186\"],[0.8,\"#7fbc41\"],[0.9,\"#4d9221\"],[1,\"#276419\"]]},\"xaxis\":{\"gridcolor\":\"white\",\"linecolor\":\"white\",\"ticks\":\"\",\"title\":{\"standoff\":15},\"zerolinecolor\":\"white\",\"automargin\":true,\"zerolinewidth\":2},\"yaxis\":{\"gridcolor\":\"white\",\"linecolor\":\"white\",\"ticks\":\"\",\"title\":{\"standoff\":15},\"zerolinecolor\":\"white\",\"automargin\":true,\"zerolinewidth\":2},\"scene\":{\"xaxis\":{\"backgroundcolor\":\"#E5ECF6\",\"gridcolor\":\"white\",\"linecolor\":\"white\",\"showbackground\":true,\"ticks\":\"\",\"zerolinecolor\":\"white\",\"gridwidth\":2},\"yaxis\":{\"backgroundcolor\":\"#E5ECF6\",\"gridcolor\":\"white\",\"linecolor\":\"white\",\"showbackground\":true,\"ticks\":\"\",\"zerolinecolor\":\"white\",\"gridwidth\":2},\"zaxis\":{\"backgroundcolor\":\"#E5ECF6\",\"gridcolor\":\"white\",\"linecolor\":\"white\",\"showbackground\":true,\"ticks\":\"\",\"zerolinecolor\":\"white\",\"gridwidth\":2}},\"shapedefaults\":{\"line\":{\"color\":\"#2a3f5f\"}},\"annotationdefaults\":{\"arrowcolor\":\"#2a3f5f\",\"arrowhead\":0,\"arrowwidth\":1},\"geo\":{\"bgcolor\":\"white\",\"landcolor\":\"#E5ECF6\",\"subunitcolor\":\"white\",\"showland\":true,\"showlakes\":true,\"lakecolor\":\"white\"},\"title\":{\"x\":0.05},\"mapbox\":{\"style\":\"light\"}}}},                        {\"responsive\": true}                    ).then(function(){\n",
       "                            \n",
       "var gd = document.getElementById('63a3ffc4-a9e5-4969-b908-48c0444ffa85');\n",
       "var x = new MutationObserver(function (mutations, observer) {{\n",
       "        var display = window.getComputedStyle(gd).display;\n",
       "        if (!display || display === 'none') {{\n",
       "            console.log([gd, 'removed!']);\n",
       "            Plotly.purge(gd);\n",
       "            observer.disconnect();\n",
       "        }}\n",
       "}});\n",
       "\n",
       "// Listen for the removal of the full notebook cells\n",
       "var notebookContainer = gd.closest('#notebook-container');\n",
       "if (notebookContainer) {{\n",
       "    x.observe(notebookContainer, {childList: true});\n",
       "}}\n",
       "\n",
       "// Listen for the clearing of the current output cell\n",
       "var outputEl = gd.closest('.output');\n",
       "if (outputEl) {{\n",
       "    x.observe(outputEl, {childList: true});\n",
       "}}\n",
       "\n",
       "                        })                };                });            </script>        </div>"
      ]
     },
     "metadata": {},
     "output_type": "display_data"
    }
   ],
   "source": [
    "m = Prophet(\n",
    "    yearly_seasonality=False,  \n",
    "    weekly_seasonality=False,  \n",
    "    daily_seasonality=True,    \n",
    "    changepoint_range=0.8,     \n",
    "    changepoint_prior_scale=0.7,\n",
    "    changepoints=['2024-05-09 04:00:00'],\n",
    "    growth=\"linear\"         \n",
    ")\n",
    "\n",
    "# Defina os pontos de mudança\n",
    "m.add_seasonality(name='daily', period=1, fourier_order=1, prior_scale = 0.01)\n",
    "m.add_regressor(\"pos_vento\", mode = \"multiplicative\", prior_scale = 0.8)\n",
    "\n",
    "# Ajuste o modelo\n",
    "m.fit(sao_goncalo_data)\n",
    "\n",
    "# Realize previsões\n",
    "future = m.make_future_dataframe(periods=12, freq='h')  \n",
    "\n",
    "future['pos_vento'] = pos_vento['pos_vento']\n",
    "\n",
    "forecast = m.predict(future)\n",
    "\n",
    "# Visualize o resultado do modelo\n",
    "plot_plotly(m, forecast)"
   ]
  },
  {
   "cell_type": "code",
   "execution_count": 16,
   "id": "76cf585d-2404-4091-aa90-7f44d35c3380",
   "metadata": {},
   "outputs": [
    {
     "data": {
      "application/vnd.plotly.v1+json": {
       "config": {
        "plotlyServerURL": "https://plot.ly"
       },
       "data": [
        {
         "line": {
          "color": "#0072B2",
          "width": 2
         },
         "mode": "lines",
         "name": "trend",
         "type": "scatter",
         "x": [
          "2024-05-04T14:00:00",
          "2024-05-04T20:00:00",
          "2024-05-05T15:00:00",
          "2024-05-05T20:00:00",
          "2024-05-06T09:00:00",
          "2024-05-06T14:00:00",
          "2024-05-06T20:00:00",
          "2024-05-07T09:00:00",
          "2024-05-07T17:00:00",
          "2024-05-07T20:00:00",
          "2024-05-08T09:00:00",
          "2024-05-08T12:00:00",
          "2024-05-08T14:00:00",
          "2024-05-08T16:00:00",
          "2024-05-08T21:00:00",
          "2024-05-09T07:00:00",
          "2024-05-09T09:00:00",
          "2024-05-09T12:00:00",
          "2024-05-09T14:00:00",
          "2024-05-09T20:00:00",
          "2024-05-09T22:00:00",
          "2024-05-09T23:00:00",
          "2024-05-10T00:00:00",
          "2024-05-10T03:00:00",
          "2024-05-10T07:00:00",
          "2024-05-10T09:00:00",
          "2024-05-10T10:00:00",
          "2024-05-10T11:00:00",
          "2024-05-10T12:00:00",
          "2024-05-10T13:00:00",
          "2024-05-10T14:00:00",
          "2024-05-10T15:00:00",
          "2024-05-10T16:00:00",
          "2024-05-10T17:00:00",
          "2024-05-10T18:00:00",
          "2024-05-10T19:00:00",
          "2024-05-10T20:00:00",
          "2024-05-10T21:00:00",
          "2024-05-10T22:00:00",
          "2024-05-10T23:00:00",
          "2024-05-11T00:00:00"
         ],
         "xaxis": "x",
         "y": [
          1.8930386000000001,
          1.9240755833802818,
          2.0223593640845072,
          2.048223516901409,
          2.115470314225352,
          2.141334467042254,
          2.1723714504225353,
          2.239618247746479,
          2.2810008922535214,
          2.296519383943662,
          2.363766181267606,
          2.3792846729577466,
          2.389630334084507,
          2.3999759952112676,
          2.4258401480281693,
          2.4869740439436625,
          2.5035900985915496,
          2.5285141805633806,
          2.545130235211268,
          2.59497839915493,
          2.6115944538028173,
          2.619902481126761,
          2.6282105084507044,
          2.6531345904225354,
          2.6863666997183104,
          2.7029827543661975,
          2.7112907816901415,
          2.7195988090140846,
          2.7279068363380286,
          2.736214863661972,
          2.7445228909859156,
          2.7528309183098596,
          2.761138945633803,
          2.7694469729577467,
          2.7777550002816906,
          2.786063027605634,
          2.7943710549295777,
          2.8026790822535217,
          2.8109871095774652,
          2.8192951369014088,
          2.8276031642253527
         ],
         "yaxis": "y"
        },
        {
         "line": {
          "color": "#0072B2",
          "width": 2
         },
         "mode": "lines",
         "name": "extra_regressors_multiplicative",
         "type": "scatter",
         "x": [
          "2024-05-04T14:00:00",
          "2024-05-04T20:00:00",
          "2024-05-05T15:00:00",
          "2024-05-05T20:00:00",
          "2024-05-06T09:00:00",
          "2024-05-06T14:00:00",
          "2024-05-06T20:00:00",
          "2024-05-07T09:00:00",
          "2024-05-07T17:00:00",
          "2024-05-07T20:00:00",
          "2024-05-08T09:00:00",
          "2024-05-08T12:00:00",
          "2024-05-08T14:00:00",
          "2024-05-08T16:00:00",
          "2024-05-08T21:00:00",
          "2024-05-09T07:00:00",
          "2024-05-09T09:00:00",
          "2024-05-09T12:00:00",
          "2024-05-09T14:00:00",
          "2024-05-09T20:00:00",
          "2024-05-09T22:00:00",
          "2024-05-09T23:00:00",
          "2024-05-10T00:00:00",
          "2024-05-10T03:00:00",
          "2024-05-10T07:00:00",
          "2024-05-10T09:00:00",
          "2024-05-10T10:00:00",
          "2024-05-10T11:00:00",
          "2024-05-10T12:00:00",
          "2024-05-10T13:00:00",
          "2024-05-10T14:00:00",
          "2024-05-10T15:00:00",
          "2024-05-10T16:00:00",
          "2024-05-10T17:00:00",
          "2024-05-10T18:00:00",
          "2024-05-10T19:00:00",
          "2024-05-10T20:00:00",
          "2024-05-10T21:00:00",
          "2024-05-10T22:00:00",
          "2024-05-10T23:00:00",
          "2024-05-11T00:00:00"
         ],
         "xaxis": "x2",
         "y": [
          0.0025028471634045957,
          0.01332872167358853,
          0.00594744359846312,
          0.01332872167358853,
          0.0224322979662432,
          -0.012013666384342044,
          0.016773318108647055,
          0.02267834056874738,
          -0.012505751589350404,
          0.016773318108647055,
          0.029075448233856074,
          -0.019394944459467454,
          0.011360380853555088,
          0.031043789053889517,
          -0.028990605957130485,
          -0.02948269116213885,
          -0.028498520752122128,
          -0.025053924317063603,
          -0.02923664855963467,
          -0.014720135011888028,
          -0.010537410769316961,
          -0.00020362146414138797,
          0.006193486200967301,
          0.0066855714059756615,
          -0.03538771362223918,
          0.016281232903638695,
          0.0015186767533878743,
          0.016281232903638695,
          0.013820806878596891,
          0.016281232903638695,
          0.013820806878596891,
          0.013820806878596891,
          0.013820806878596891,
          0.0187416589286805,
          0.0187416589286805,
          0.0187416589286805,
          0.0187416589286805,
          0.008899954828513286,
          0.008899954828513286,
          0.008899954828513286,
          -0.0009417492716539289
         ],
         "yaxis": "y2"
        },
        {
         "line": {
          "color": "#0072B2",
          "width": 2
         },
         "mode": "lines",
         "name": "daily",
         "type": "scatter",
         "x": [
          "2017-01-01T00:00:00",
          "2017-01-01T01:00:00",
          "2017-01-01T02:00:00",
          "2017-01-01T03:00:00",
          "2017-01-01T04:00:00",
          "2017-01-01T05:00:00",
          "2017-01-01T06:00:00",
          "2017-01-01T07:00:00",
          "2017-01-01T08:00:00",
          "2017-01-01T09:00:00",
          "2017-01-01T10:00:00",
          "2017-01-01T11:00:00",
          "2017-01-01T12:00:00",
          "2017-01-01T13:00:00",
          "2017-01-01T14:00:00",
          "2017-01-01T15:00:00",
          "2017-01-01T16:00:00",
          "2017-01-01T17:00:00",
          "2017-01-01T18:00:00",
          "2017-01-01T19:00:00",
          "2017-01-01T20:00:00",
          "2017-01-01T21:00:00",
          "2017-01-01T22:00:00",
          "2017-01-01T23:00:00"
         ],
         "xaxis": "x3",
         "y": [
          -0.030649513960068146,
          -0.08626139429201352,
          -0.08593682721660163,
          -0.030261255008037,
          0.0364229681976987,
          0.06420521773612642,
          0.03859210266040059,
          -0.0120492798595739,
          -0.04633949068828884,
          -0.04646723626107033,
          -0.027560189844263814,
          -0.014964208688490466,
          -0.015992415519928686,
          -0.015517296902165302,
          0.002260940917410489,
          0.03156559912711541,
          0.04800059924915694,
          0.03474829781874538,
          0.003920307060822437,
          -0.011759072970032378,
          0.008557852721493047,
          0.04929241189963166,
          0.0687236664210081,
          0.03746821739710127
         ],
         "yaxis": "y3"
        }
       ],
       "layout": {
        "height": 600,
        "showlegend": false,
        "template": {
         "data": {
          "bar": [
           {
            "error_x": {
             "color": "#2a3f5f"
            },
            "error_y": {
             "color": "#2a3f5f"
            },
            "marker": {
             "line": {
              "color": "#E5ECF6",
              "width": 0.5
             },
             "pattern": {
              "fillmode": "overlay",
              "size": 10,
              "solidity": 0.2
             }
            },
            "type": "bar"
           }
          ],
          "barpolar": [
           {
            "marker": {
             "line": {
              "color": "#E5ECF6",
              "width": 0.5
             },
             "pattern": {
              "fillmode": "overlay",
              "size": 10,
              "solidity": 0.2
             }
            },
            "type": "barpolar"
           }
          ],
          "carpet": [
           {
            "aaxis": {
             "endlinecolor": "#2a3f5f",
             "gridcolor": "white",
             "linecolor": "white",
             "minorgridcolor": "white",
             "startlinecolor": "#2a3f5f"
            },
            "baxis": {
             "endlinecolor": "#2a3f5f",
             "gridcolor": "white",
             "linecolor": "white",
             "minorgridcolor": "white",
             "startlinecolor": "#2a3f5f"
            },
            "type": "carpet"
           }
          ],
          "choropleth": [
           {
            "colorbar": {
             "outlinewidth": 0,
             "ticks": ""
            },
            "type": "choropleth"
           }
          ],
          "contour": [
           {
            "colorbar": {
             "outlinewidth": 0,
             "ticks": ""
            },
            "colorscale": [
             [
              0,
              "#0d0887"
             ],
             [
              0.1111111111111111,
              "#46039f"
             ],
             [
              0.2222222222222222,
              "#7201a8"
             ],
             [
              0.3333333333333333,
              "#9c179e"
             ],
             [
              0.4444444444444444,
              "#bd3786"
             ],
             [
              0.5555555555555556,
              "#d8576b"
             ],
             [
              0.6666666666666666,
              "#ed7953"
             ],
             [
              0.7777777777777778,
              "#fb9f3a"
             ],
             [
              0.8888888888888888,
              "#fdca26"
             ],
             [
              1,
              "#f0f921"
             ]
            ],
            "type": "contour"
           }
          ],
          "contourcarpet": [
           {
            "colorbar": {
             "outlinewidth": 0,
             "ticks": ""
            },
            "type": "contourcarpet"
           }
          ],
          "heatmap": [
           {
            "colorbar": {
             "outlinewidth": 0,
             "ticks": ""
            },
            "colorscale": [
             [
              0,
              "#0d0887"
             ],
             [
              0.1111111111111111,
              "#46039f"
             ],
             [
              0.2222222222222222,
              "#7201a8"
             ],
             [
              0.3333333333333333,
              "#9c179e"
             ],
             [
              0.4444444444444444,
              "#bd3786"
             ],
             [
              0.5555555555555556,
              "#d8576b"
             ],
             [
              0.6666666666666666,
              "#ed7953"
             ],
             [
              0.7777777777777778,
              "#fb9f3a"
             ],
             [
              0.8888888888888888,
              "#fdca26"
             ],
             [
              1,
              "#f0f921"
             ]
            ],
            "type": "heatmap"
           }
          ],
          "heatmapgl": [
           {
            "colorbar": {
             "outlinewidth": 0,
             "ticks": ""
            },
            "colorscale": [
             [
              0,
              "#0d0887"
             ],
             [
              0.1111111111111111,
              "#46039f"
             ],
             [
              0.2222222222222222,
              "#7201a8"
             ],
             [
              0.3333333333333333,
              "#9c179e"
             ],
             [
              0.4444444444444444,
              "#bd3786"
             ],
             [
              0.5555555555555556,
              "#d8576b"
             ],
             [
              0.6666666666666666,
              "#ed7953"
             ],
             [
              0.7777777777777778,
              "#fb9f3a"
             ],
             [
              0.8888888888888888,
              "#fdca26"
             ],
             [
              1,
              "#f0f921"
             ]
            ],
            "type": "heatmapgl"
           }
          ],
          "histogram": [
           {
            "marker": {
             "pattern": {
              "fillmode": "overlay",
              "size": 10,
              "solidity": 0.2
             }
            },
            "type": "histogram"
           }
          ],
          "histogram2d": [
           {
            "colorbar": {
             "outlinewidth": 0,
             "ticks": ""
            },
            "colorscale": [
             [
              0,
              "#0d0887"
             ],
             [
              0.1111111111111111,
              "#46039f"
             ],
             [
              0.2222222222222222,
              "#7201a8"
             ],
             [
              0.3333333333333333,
              "#9c179e"
             ],
             [
              0.4444444444444444,
              "#bd3786"
             ],
             [
              0.5555555555555556,
              "#d8576b"
             ],
             [
              0.6666666666666666,
              "#ed7953"
             ],
             [
              0.7777777777777778,
              "#fb9f3a"
             ],
             [
              0.8888888888888888,
              "#fdca26"
             ],
             [
              1,
              "#f0f921"
             ]
            ],
            "type": "histogram2d"
           }
          ],
          "histogram2dcontour": [
           {
            "colorbar": {
             "outlinewidth": 0,
             "ticks": ""
            },
            "colorscale": [
             [
              0,
              "#0d0887"
             ],
             [
              0.1111111111111111,
              "#46039f"
             ],
             [
              0.2222222222222222,
              "#7201a8"
             ],
             [
              0.3333333333333333,
              "#9c179e"
             ],
             [
              0.4444444444444444,
              "#bd3786"
             ],
             [
              0.5555555555555556,
              "#d8576b"
             ],
             [
              0.6666666666666666,
              "#ed7953"
             ],
             [
              0.7777777777777778,
              "#fb9f3a"
             ],
             [
              0.8888888888888888,
              "#fdca26"
             ],
             [
              1,
              "#f0f921"
             ]
            ],
            "type": "histogram2dcontour"
           }
          ],
          "mesh3d": [
           {
            "colorbar": {
             "outlinewidth": 0,
             "ticks": ""
            },
            "type": "mesh3d"
           }
          ],
          "parcoords": [
           {
            "line": {
             "colorbar": {
              "outlinewidth": 0,
              "ticks": ""
             }
            },
            "type": "parcoords"
           }
          ],
          "pie": [
           {
            "automargin": true,
            "type": "pie"
           }
          ],
          "scatter": [
           {
            "fillpattern": {
             "fillmode": "overlay",
             "size": 10,
             "solidity": 0.2
            },
            "type": "scatter"
           }
          ],
          "scatter3d": [
           {
            "line": {
             "colorbar": {
              "outlinewidth": 0,
              "ticks": ""
             }
            },
            "marker": {
             "colorbar": {
              "outlinewidth": 0,
              "ticks": ""
             }
            },
            "type": "scatter3d"
           }
          ],
          "scattercarpet": [
           {
            "marker": {
             "colorbar": {
              "outlinewidth": 0,
              "ticks": ""
             }
            },
            "type": "scattercarpet"
           }
          ],
          "scattergeo": [
           {
            "marker": {
             "colorbar": {
              "outlinewidth": 0,
              "ticks": ""
             }
            },
            "type": "scattergeo"
           }
          ],
          "scattergl": [
           {
            "marker": {
             "colorbar": {
              "outlinewidth": 0,
              "ticks": ""
             }
            },
            "type": "scattergl"
           }
          ],
          "scattermapbox": [
           {
            "marker": {
             "colorbar": {
              "outlinewidth": 0,
              "ticks": ""
             }
            },
            "type": "scattermapbox"
           }
          ],
          "scatterpolar": [
           {
            "marker": {
             "colorbar": {
              "outlinewidth": 0,
              "ticks": ""
             }
            },
            "type": "scatterpolar"
           }
          ],
          "scatterpolargl": [
           {
            "marker": {
             "colorbar": {
              "outlinewidth": 0,
              "ticks": ""
             }
            },
            "type": "scatterpolargl"
           }
          ],
          "scatterternary": [
           {
            "marker": {
             "colorbar": {
              "outlinewidth": 0,
              "ticks": ""
             }
            },
            "type": "scatterternary"
           }
          ],
          "surface": [
           {
            "colorbar": {
             "outlinewidth": 0,
             "ticks": ""
            },
            "colorscale": [
             [
              0,
              "#0d0887"
             ],
             [
              0.1111111111111111,
              "#46039f"
             ],
             [
              0.2222222222222222,
              "#7201a8"
             ],
             [
              0.3333333333333333,
              "#9c179e"
             ],
             [
              0.4444444444444444,
              "#bd3786"
             ],
             [
              0.5555555555555556,
              "#d8576b"
             ],
             [
              0.6666666666666666,
              "#ed7953"
             ],
             [
              0.7777777777777778,
              "#fb9f3a"
             ],
             [
              0.8888888888888888,
              "#fdca26"
             ],
             [
              1,
              "#f0f921"
             ]
            ],
            "type": "surface"
           }
          ],
          "table": [
           {
            "cells": {
             "fill": {
              "color": "#EBF0F8"
             },
             "line": {
              "color": "white"
             }
            },
            "header": {
             "fill": {
              "color": "#C8D4E3"
             },
             "line": {
              "color": "white"
             }
            },
            "type": "table"
           }
          ]
         },
         "layout": {
          "annotationdefaults": {
           "arrowcolor": "#2a3f5f",
           "arrowhead": 0,
           "arrowwidth": 1
          },
          "autotypenumbers": "strict",
          "coloraxis": {
           "colorbar": {
            "outlinewidth": 0,
            "ticks": ""
           }
          },
          "colorscale": {
           "diverging": [
            [
             0,
             "#8e0152"
            ],
            [
             0.1,
             "#c51b7d"
            ],
            [
             0.2,
             "#de77ae"
            ],
            [
             0.3,
             "#f1b6da"
            ],
            [
             0.4,
             "#fde0ef"
            ],
            [
             0.5,
             "#f7f7f7"
            ],
            [
             0.6,
             "#e6f5d0"
            ],
            [
             0.7,
             "#b8e186"
            ],
            [
             0.8,
             "#7fbc41"
            ],
            [
             0.9,
             "#4d9221"
            ],
            [
             1,
             "#276419"
            ]
           ],
           "sequential": [
            [
             0,
             "#0d0887"
            ],
            [
             0.1111111111111111,
             "#46039f"
            ],
            [
             0.2222222222222222,
             "#7201a8"
            ],
            [
             0.3333333333333333,
             "#9c179e"
            ],
            [
             0.4444444444444444,
             "#bd3786"
            ],
            [
             0.5555555555555556,
             "#d8576b"
            ],
            [
             0.6666666666666666,
             "#ed7953"
            ],
            [
             0.7777777777777778,
             "#fb9f3a"
            ],
            [
             0.8888888888888888,
             "#fdca26"
            ],
            [
             1,
             "#f0f921"
            ]
           ],
           "sequentialminus": [
            [
             0,
             "#0d0887"
            ],
            [
             0.1111111111111111,
             "#46039f"
            ],
            [
             0.2222222222222222,
             "#7201a8"
            ],
            [
             0.3333333333333333,
             "#9c179e"
            ],
            [
             0.4444444444444444,
             "#bd3786"
            ],
            [
             0.5555555555555556,
             "#d8576b"
            ],
            [
             0.6666666666666666,
             "#ed7953"
            ],
            [
             0.7777777777777778,
             "#fb9f3a"
            ],
            [
             0.8888888888888888,
             "#fdca26"
            ],
            [
             1,
             "#f0f921"
            ]
           ]
          },
          "colorway": [
           "#636efa",
           "#EF553B",
           "#00cc96",
           "#ab63fa",
           "#FFA15A",
           "#19d3f3",
           "#FF6692",
           "#B6E880",
           "#FF97FF",
           "#FECB52"
          ],
          "font": {
           "color": "#2a3f5f"
          },
          "geo": {
           "bgcolor": "white",
           "lakecolor": "white",
           "landcolor": "#E5ECF6",
           "showlakes": true,
           "showland": true,
           "subunitcolor": "white"
          },
          "hoverlabel": {
           "align": "left"
          },
          "hovermode": "closest",
          "mapbox": {
           "style": "light"
          },
          "paper_bgcolor": "white",
          "plot_bgcolor": "#E5ECF6",
          "polar": {
           "angularaxis": {
            "gridcolor": "white",
            "linecolor": "white",
            "ticks": ""
           },
           "bgcolor": "#E5ECF6",
           "radialaxis": {
            "gridcolor": "white",
            "linecolor": "white",
            "ticks": ""
           }
          },
          "scene": {
           "xaxis": {
            "backgroundcolor": "#E5ECF6",
            "gridcolor": "white",
            "gridwidth": 2,
            "linecolor": "white",
            "showbackground": true,
            "ticks": "",
            "zerolinecolor": "white"
           },
           "yaxis": {
            "backgroundcolor": "#E5ECF6",
            "gridcolor": "white",
            "gridwidth": 2,
            "linecolor": "white",
            "showbackground": true,
            "ticks": "",
            "zerolinecolor": "white"
           },
           "zaxis": {
            "backgroundcolor": "#E5ECF6",
            "gridcolor": "white",
            "gridwidth": 2,
            "linecolor": "white",
            "showbackground": true,
            "ticks": "",
            "zerolinecolor": "white"
           }
          },
          "shapedefaults": {
           "line": {
            "color": "#2a3f5f"
           }
          },
          "ternary": {
           "aaxis": {
            "gridcolor": "white",
            "linecolor": "white",
            "ticks": ""
           },
           "baxis": {
            "gridcolor": "white",
            "linecolor": "white",
            "ticks": ""
           },
           "bgcolor": "#E5ECF6",
           "caxis": {
            "gridcolor": "white",
            "linecolor": "white",
            "ticks": ""
           }
          },
          "title": {
           "x": 0.05
          },
          "xaxis": {
           "automargin": true,
           "gridcolor": "white",
           "linecolor": "white",
           "ticks": "",
           "title": {
            "standoff": 15
           },
           "zerolinecolor": "white",
           "zerolinewidth": 2
          },
          "yaxis": {
           "automargin": true,
           "gridcolor": "white",
           "linecolor": "white",
           "ticks": "",
           "title": {
            "standoff": 15
           },
           "zerolinecolor": "white",
           "zerolinewidth": 2
          }
         }
        },
        "width": 900,
        "xaxis": {
         "anchor": "y",
         "domain": [
          0,
          1
         ],
         "range": [
          "2024-05-04T06:18:00",
          "2024-05-11T07:42:00"
         ],
         "type": "date"
        },
        "xaxis2": {
         "anchor": "y2",
         "domain": [
          0,
          1
         ],
         "range": [
          "2024-05-04T06:18:00",
          "2024-05-11T07:42:00"
         ],
         "type": "date"
        },
        "xaxis3": {
         "anchor": "y3",
         "domain": [
          0,
          1
         ],
         "range": [
          "2016-12-31T22:51:00",
          "2017-01-02T00:09:00"
         ],
         "tickformat": "%H:%M",
         "type": "date"
        },
        "yaxis": {
         "anchor": "x",
         "autorange": true,
         "domain": [
          0.7333333333333333,
          1
         ],
         "range": [
          1.841118346431925,
          2.8795234177934277
         ],
         "rangemode": "normal",
         "title": {
          "text": "trend"
         },
         "type": "linear",
         "zerolinecolor": "#AAA"
        },
        "yaxis2": {
         "anchor": "x2",
         "autorange": true,
         "domain": [
          0.36666666666666664,
          0.6333333333333333
         ],
         "hoverformat": ".2%",
         "range": [
          -0.039078352659801883,
          0.03473442809145222
         ],
         "rangemode": "tozero",
         "tickformat": "%",
         "title": {
          "text": "extra_regressors_multiplicative"
         },
         "type": "linear",
         "zerolinecolor": "#AAA"
        },
        "yaxis3": {
         "anchor": "x3",
         "autorange": true,
         "domain": [
          0,
          0.26666666666666666
         ],
         "range": [
          -0.09487167544273693,
          0.07733394757173152
         ],
         "title": {
          "text": "daily"
         },
         "type": "linear",
         "zerolinecolor": "#AAA"
        }
       }
      },
      "image/png": "[encoded data removed]",
      "text/html": [
       "<div>                            <div id=\"b7818bae-72f6-4f8b-8c49-5902da87af8f\" class=\"plotly-graph-div\" style=\"height:600px; width:900px;\"></div>            <script type=\"text/javascript\">                require([\"plotly\"], function(Plotly) {                    window.PLOTLYENV=window.PLOTLYENV || {};                                    if (document.getElementById(\"b7818bae-72f6-4f8b-8c49-5902da87af8f\")) {                    Plotly.newPlot(                        \"b7818bae-72f6-4f8b-8c49-5902da87af8f\",                        [{\"line\":{\"color\":\"#0072B2\",\"width\":2},\"mode\":\"lines\",\"name\":\"trend\",\"x\":[\"2024-05-04T14:00:00\",\"2024-05-04T20:00:00\",\"2024-05-05T15:00:00\",\"2024-05-05T20:00:00\",\"2024-05-06T09:00:00\",\"2024-05-06T14:00:00\",\"2024-05-06T20:00:00\",\"2024-05-07T09:00:00\",\"2024-05-07T17:00:00\",\"2024-05-07T20:00:00\",\"2024-05-08T09:00:00\",\"2024-05-08T12:00:00\",\"2024-05-08T14:00:00\",\"2024-05-08T16:00:00\",\"2024-05-08T21:00:00\",\"2024-05-09T07:00:00\",\"2024-05-09T09:00:00\",\"2024-05-09T12:00:00\",\"2024-05-09T14:00:00\",\"2024-05-09T20:00:00\",\"2024-05-09T22:00:00\",\"2024-05-09T23:00:00\",\"2024-05-10T00:00:00\",\"2024-05-10T03:00:00\",\"2024-05-10T07:00:00\",\"2024-05-10T09:00:00\",\"2024-05-10T10:00:00\",\"2024-05-10T11:00:00\",\"2024-05-10T12:00:00\",\"2024-05-10T13:00:00\",\"2024-05-10T14:00:00\",\"2024-05-10T15:00:00\",\"2024-05-10T16:00:00\",\"2024-05-10T17:00:00\",\"2024-05-10T18:00:00\",\"2024-05-10T19:00:00\",\"2024-05-10T20:00:00\",\"2024-05-10T21:00:00\",\"2024-05-10T22:00:00\",\"2024-05-10T23:00:00\",\"2024-05-11T00:00:00\"],\"y\":[1.8930386000000001,1.9240755833802818,2.0223593640845072,2.048223516901409,2.115470314225352,2.141334467042254,2.1723714504225353,2.239618247746479,2.2810008922535214,2.296519383943662,2.363766181267606,2.3792846729577466,2.389630334084507,2.3999759952112676,2.4258401480281693,2.4869740439436625,2.5035900985915496,2.5285141805633806,2.545130235211268,2.59497839915493,2.6115944538028173,2.619902481126761,2.6282105084507044,2.6531345904225354,2.6863666997183104,2.7029827543661975,2.7112907816901415,2.7195988090140846,2.7279068363380286,2.736214863661972,2.7445228909859156,2.7528309183098596,2.761138945633803,2.7694469729577467,2.7777550002816906,2.786063027605634,2.7943710549295777,2.8026790822535217,2.8109871095774652,2.8192951369014088,2.8276031642253527],\"type\":\"scatter\",\"xaxis\":\"x\",\"yaxis\":\"y\"},{\"line\":{\"color\":\"#0072B2\",\"width\":2},\"mode\":\"lines\",\"name\":\"extra_regressors_multiplicative\",\"x\":[\"2024-05-04T14:00:00\",\"2024-05-04T20:00:00\",\"2024-05-05T15:00:00\",\"2024-05-05T20:00:00\",\"2024-05-06T09:00:00\",\"2024-05-06T14:00:00\",\"2024-05-06T20:00:00\",\"2024-05-07T09:00:00\",\"2024-05-07T17:00:00\",\"2024-05-07T20:00:00\",\"2024-05-08T09:00:00\",\"2024-05-08T12:00:00\",\"2024-05-08T14:00:00\",\"2024-05-08T16:00:00\",\"2024-05-08T21:00:00\",\"2024-05-09T07:00:00\",\"2024-05-09T09:00:00\",\"2024-05-09T12:00:00\",\"2024-05-09T14:00:00\",\"2024-05-09T20:00:00\",\"2024-05-09T22:00:00\",\"2024-05-09T23:00:00\",\"2024-05-10T00:00:00\",\"2024-05-10T03:00:00\",\"2024-05-10T07:00:00\",\"2024-05-10T09:00:00\",\"2024-05-10T10:00:00\",\"2024-05-10T11:00:00\",\"2024-05-10T12:00:00\",\"2024-05-10T13:00:00\",\"2024-05-10T14:00:00\",\"2024-05-10T15:00:00\",\"2024-05-10T16:00:00\",\"2024-05-10T17:00:00\",\"2024-05-10T18:00:00\",\"2024-05-10T19:00:00\",\"2024-05-10T20:00:00\",\"2024-05-10T21:00:00\",\"2024-05-10T22:00:00\",\"2024-05-10T23:00:00\",\"2024-05-11T00:00:00\"],\"y\":[0.0025028471634045957,0.01332872167358853,0.00594744359846312,0.01332872167358853,0.0224322979662432,-0.012013666384342044,0.016773318108647055,0.02267834056874738,-0.012505751589350404,0.016773318108647055,0.029075448233856074,-0.019394944459467454,0.011360380853555088,0.031043789053889517,-0.028990605957130485,-0.02948269116213885,-0.028498520752122128,-0.025053924317063603,-0.02923664855963467,-0.014720135011888028,-0.010537410769316961,-0.00020362146414138797,0.006193486200967301,0.0066855714059756615,-0.03538771362223918,0.016281232903638695,0.0015186767533878743,0.016281232903638695,0.013820806878596891,0.016281232903638695,0.013820806878596891,0.013820806878596891,0.013820806878596891,0.0187416589286805,0.0187416589286805,0.0187416589286805,0.0187416589286805,0.008899954828513286,0.008899954828513286,0.008899954828513286,-0.0009417492716539289],\"type\":\"scatter\",\"xaxis\":\"x2\",\"yaxis\":\"y2\"},{\"line\":{\"color\":\"#0072B2\",\"width\":2},\"mode\":\"lines\",\"name\":\"daily\",\"x\":[\"2017-01-01T00:00:00\",\"2017-01-01T01:00:00\",\"2017-01-01T02:00:00\",\"2017-01-01T03:00:00\",\"2017-01-01T04:00:00\",\"2017-01-01T05:00:00\",\"2017-01-01T06:00:00\",\"2017-01-01T07:00:00\",\"2017-01-01T08:00:00\",\"2017-01-01T09:00:00\",\"2017-01-01T10:00:00\",\"2017-01-01T11:00:00\",\"2017-01-01T12:00:00\",\"2017-01-01T13:00:00\",\"2017-01-01T14:00:00\",\"2017-01-01T15:00:00\",\"2017-01-01T16:00:00\",\"2017-01-01T17:00:00\",\"2017-01-01T18:00:00\",\"2017-01-01T19:00:00\",\"2017-01-01T20:00:00\",\"2017-01-01T21:00:00\",\"2017-01-01T22:00:00\",\"2017-01-01T23:00:00\"],\"y\":[-0.030649513960068146,-0.08626139429201352,-0.08593682721660163,-0.030261255008037,0.0364229681976987,0.06420521773612642,0.03859210266040059,-0.0120492798595739,-0.04633949068828884,-0.04646723626107033,-0.027560189844263814,-0.014964208688490466,-0.015992415519928686,-0.015517296902165302,0.002260940917410489,0.03156559912711541,0.04800059924915694,0.03474829781874538,0.003920307060822437,-0.011759072970032378,0.008557852721493047,0.04929241189963166,0.0687236664210081,0.03746821739710127],\"type\":\"scatter\",\"xaxis\":\"x3\",\"yaxis\":\"y3\"}],                        {\"template\":{\"data\":{\"histogram2dcontour\":[{\"type\":\"histogram2dcontour\",\"colorbar\":{\"outlinewidth\":0,\"ticks\":\"\"},\"colorscale\":[[0.0,\"#0d0887\"],[0.1111111111111111,\"#46039f\"],[0.2222222222222222,\"#7201a8\"],[0.3333333333333333,\"#9c179e\"],[0.4444444444444444,\"#bd3786\"],[0.5555555555555556,\"#d8576b\"],[0.6666666666666666,\"#ed7953\"],[0.7777777777777778,\"#fb9f3a\"],[0.8888888888888888,\"#fdca26\"],[1.0,\"#f0f921\"]]}],\"choropleth\":[{\"type\":\"choropleth\",\"colorbar\":{\"outlinewidth\":0,\"ticks\":\"\"}}],\"histogram2d\":[{\"type\":\"histogram2d\",\"colorbar\":{\"outlinewidth\":0,\"ticks\":\"\"},\"colorscale\":[[0.0,\"#0d0887\"],[0.1111111111111111,\"#46039f\"],[0.2222222222222222,\"#7201a8\"],[0.3333333333333333,\"#9c179e\"],[0.4444444444444444,\"#bd3786\"],[0.5555555555555556,\"#d8576b\"],[0.6666666666666666,\"#ed7953\"],[0.7777777777777778,\"#fb9f3a\"],[0.8888888888888888,\"#fdca26\"],[1.0,\"#f0f921\"]]}],\"heatmap\":[{\"type\":\"heatmap\",\"colorbar\":{\"outlinewidth\":0,\"ticks\":\"\"},\"colorscale\":[[0.0,\"#0d0887\"],[0.1111111111111111,\"#46039f\"],[0.2222222222222222,\"#7201a8\"],[0.3333333333333333,\"#9c179e\"],[0.4444444444444444,\"#bd3786\"],[0.5555555555555556,\"#d8576b\"],[0.6666666666666666,\"#ed7953\"],[0.7777777777777778,\"#fb9f3a\"],[0.8888888888888888,\"#fdca26\"],[1.0,\"#f0f921\"]]}],\"heatmapgl\":[{\"type\":\"heatmapgl\",\"colorbar\":{\"outlinewidth\":0,\"ticks\":\"\"},\"colorscale\":[[0.0,\"#0d0887\"],[0.1111111111111111,\"#46039f\"],[0.2222222222222222,\"#7201a8\"],[0.3333333333333333,\"#9c179e\"],[0.4444444444444444,\"#bd3786\"],[0.5555555555555556,\"#d8576b\"],[0.6666666666666666,\"#ed7953\"],[0.7777777777777778,\"#fb9f3a\"],[0.8888888888888888,\"#fdca26\"],[1.0,\"#f0f921\"]]}],\"contourcarpet\":[{\"type\":\"contourcarpet\",\"colorbar\":{\"outlinewidth\":0,\"ticks\":\"\"}}],\"contour\":[{\"type\":\"contour\",\"colorbar\":{\"outlinewidth\":0,\"ticks\":\"\"},\"colorscale\":[[0.0,\"#0d0887\"],[0.1111111111111111,\"#46039f\"],[0.2222222222222222,\"#7201a8\"],[0.3333333333333333,\"#9c179e\"],[0.4444444444444444,\"#bd3786\"],[0.5555555555555556,\"#d8576b\"],[0.6666666666666666,\"#ed7953\"],[0.7777777777777778,\"#fb9f3a\"],[0.8888888888888888,\"#fdca26\"],[1.0,\"#f0f921\"]]}],\"surface\":[{\"type\":\"surface\",\"colorbar\":{\"outlinewidth\":0,\"ticks\":\"\"},\"colorscale\":[[0.0,\"#0d0887\"],[0.1111111111111111,\"#46039f\"],[0.2222222222222222,\"#7201a8\"],[0.3333333333333333,\"#9c179e\"],[0.4444444444444444,\"#bd3786\"],[0.5555555555555556,\"#d8576b\"],[0.6666666666666666,\"#ed7953\"],[0.7777777777777778,\"#fb9f3a\"],[0.8888888888888888,\"#fdca26\"],[1.0,\"#f0f921\"]]}],\"mesh3d\":[{\"type\":\"mesh3d\",\"colorbar\":{\"outlinewidth\":0,\"ticks\":\"\"}}],\"scatter\":[{\"fillpattern\":{\"fillmode\":\"overlay\",\"size\":10,\"solidity\":0.2},\"type\":\"scatter\"}],\"parcoords\":[{\"type\":\"parcoords\",\"line\":{\"colorbar\":{\"outlinewidth\":0,\"ticks\":\"\"}}}],\"scatterpolargl\":[{\"type\":\"scatterpolargl\",\"marker\":{\"colorbar\":{\"outlinewidth\":0,\"ticks\":\"\"}}}],\"bar\":[{\"error_x\":{\"color\":\"#2a3f5f\"},\"error_y\":{\"color\":\"#2a3f5f\"},\"marker\":{\"line\":{\"color\":\"#E5ECF6\",\"width\":0.5},\"pattern\":{\"fillmode\":\"overlay\",\"size\":10,\"solidity\":0.2}},\"type\":\"bar\"}],\"scattergeo\":[{\"type\":\"scattergeo\",\"marker\":{\"colorbar\":{\"outlinewidth\":0,\"ticks\":\"\"}}}],\"scatterpolar\":[{\"type\":\"scatterpolar\",\"marker\":{\"colorbar\":{\"outlinewidth\":0,\"ticks\":\"\"}}}],\"histogram\":[{\"marker\":{\"pattern\":{\"fillmode\":\"overlay\",\"size\":10,\"solidity\":0.2}},\"type\":\"histogram\"}],\"scattergl\":[{\"type\":\"scattergl\",\"marker\":{\"colorbar\":{\"outlinewidth\":0,\"ticks\":\"\"}}}],\"scatter3d\":[{\"type\":\"scatter3d\",\"line\":{\"colorbar\":{\"outlinewidth\":0,\"ticks\":\"\"}},\"marker\":{\"colorbar\":{\"outlinewidth\":0,\"ticks\":\"\"}}}],\"scattermapbox\":[{\"type\":\"scattermapbox\",\"marker\":{\"colorbar\":{\"outlinewidth\":0,\"ticks\":\"\"}}}],\"scatterternary\":[{\"type\":\"scatterternary\",\"marker\":{\"colorbar\":{\"outlinewidth\":0,\"ticks\":\"\"}}}],\"scattercarpet\":[{\"type\":\"scattercarpet\",\"marker\":{\"colorbar\":{\"outlinewidth\":0,\"ticks\":\"\"}}}],\"carpet\":[{\"aaxis\":{\"endlinecolor\":\"#2a3f5f\",\"gridcolor\":\"white\",\"linecolor\":\"white\",\"minorgridcolor\":\"white\",\"startlinecolor\":\"#2a3f5f\"},\"baxis\":{\"endlinecolor\":\"#2a3f5f\",\"gridcolor\":\"white\",\"linecolor\":\"white\",\"minorgridcolor\":\"white\",\"startlinecolor\":\"#2a3f5f\"},\"type\":\"carpet\"}],\"table\":[{\"cells\":{\"fill\":{\"color\":\"#EBF0F8\"},\"line\":{\"color\":\"white\"}},\"header\":{\"fill\":{\"color\":\"#C8D4E3\"},\"line\":{\"color\":\"white\"}},\"type\":\"table\"}],\"barpolar\":[{\"marker\":{\"line\":{\"color\":\"#E5ECF6\",\"width\":0.5},\"pattern\":{\"fillmode\":\"overlay\",\"size\":10,\"solidity\":0.2}},\"type\":\"barpolar\"}],\"pie\":[{\"automargin\":true,\"type\":\"pie\"}]},\"layout\":{\"autotypenumbers\":\"strict\",\"colorway\":[\"#636efa\",\"#EF553B\",\"#00cc96\",\"#ab63fa\",\"#FFA15A\",\"#19d3f3\",\"#FF6692\",\"#B6E880\",\"#FF97FF\",\"#FECB52\"],\"font\":{\"color\":\"#2a3f5f\"},\"hovermode\":\"closest\",\"hoverlabel\":{\"align\":\"left\"},\"paper_bgcolor\":\"white\",\"plot_bgcolor\":\"#E5ECF6\",\"polar\":{\"bgcolor\":\"#E5ECF6\",\"angularaxis\":{\"gridcolor\":\"white\",\"linecolor\":\"white\",\"ticks\":\"\"},\"radialaxis\":{\"gridcolor\":\"white\",\"linecolor\":\"white\",\"ticks\":\"\"}},\"ternary\":{\"bgcolor\":\"#E5ECF6\",\"aaxis\":{\"gridcolor\":\"white\",\"linecolor\":\"white\",\"ticks\":\"\"},\"baxis\":{\"gridcolor\":\"white\",\"linecolor\":\"white\",\"ticks\":\"\"},\"caxis\":{\"gridcolor\":\"white\",\"linecolor\":\"white\",\"ticks\":\"\"}},\"coloraxis\":{\"colorbar\":{\"outlinewidth\":0,\"ticks\":\"\"}},\"colorscale\":{\"sequential\":[[0.0,\"#0d0887\"],[0.1111111111111111,\"#46039f\"],[0.2222222222222222,\"#7201a8\"],[0.3333333333333333,\"#9c179e\"],[0.4444444444444444,\"#bd3786\"],[0.5555555555555556,\"#d8576b\"],[0.6666666666666666,\"#ed7953\"],[0.7777777777777778,\"#fb9f3a\"],[0.8888888888888888,\"#fdca26\"],[1.0,\"#f0f921\"]],\"sequentialminus\":[[0.0,\"#0d0887\"],[0.1111111111111111,\"#46039f\"],[0.2222222222222222,\"#7201a8\"],[0.3333333333333333,\"#9c179e\"],[0.4444444444444444,\"#bd3786\"],[0.5555555555555556,\"#d8576b\"],[0.6666666666666666,\"#ed7953\"],[0.7777777777777778,\"#fb9f3a\"],[0.8888888888888888,\"#fdca26\"],[1.0,\"#f0f921\"]],\"diverging\":[[0,\"#8e0152\"],[0.1,\"#c51b7d\"],[0.2,\"#de77ae\"],[0.3,\"#f1b6da\"],[0.4,\"#fde0ef\"],[0.5,\"#f7f7f7\"],[0.6,\"#e6f5d0\"],[0.7,\"#b8e186\"],[0.8,\"#7fbc41\"],[0.9,\"#4d9221\"],[1,\"#276419\"]]},\"xaxis\":{\"gridcolor\":\"white\",\"linecolor\":\"white\",\"ticks\":\"\",\"title\":{\"standoff\":15},\"zerolinecolor\":\"white\",\"automargin\":true,\"zerolinewidth\":2},\"yaxis\":{\"gridcolor\":\"white\",\"linecolor\":\"white\",\"ticks\":\"\",\"title\":{\"standoff\":15},\"zerolinecolor\":\"white\",\"automargin\":true,\"zerolinewidth\":2},\"scene\":{\"xaxis\":{\"backgroundcolor\":\"#E5ECF6\",\"gridcolor\":\"white\",\"linecolor\":\"white\",\"showbackground\":true,\"ticks\":\"\",\"zerolinecolor\":\"white\",\"gridwidth\":2},\"yaxis\":{\"backgroundcolor\":\"#E5ECF6\",\"gridcolor\":\"white\",\"linecolor\":\"white\",\"showbackground\":true,\"ticks\":\"\",\"zerolinecolor\":\"white\",\"gridwidth\":2},\"zaxis\":{\"backgroundcolor\":\"#E5ECF6\",\"gridcolor\":\"white\",\"linecolor\":\"white\",\"showbackground\":true,\"ticks\":\"\",\"zerolinecolor\":\"white\",\"gridwidth\":2}},\"shapedefaults\":{\"line\":{\"color\":\"#2a3f5f\"}},\"annotationdefaults\":{\"arrowcolor\":\"#2a3f5f\",\"arrowhead\":0,\"arrowwidth\":1},\"geo\":{\"bgcolor\":\"white\",\"landcolor\":\"#E5ECF6\",\"subunitcolor\":\"white\",\"showland\":true,\"showlakes\":true,\"lakecolor\":\"white\"},\"title\":{\"x\":0.05},\"mapbox\":{\"style\":\"light\"}}},\"xaxis\":{\"anchor\":\"y\",\"domain\":[0.0,1.0],\"range\":[\"2024-05-04T06:18:00\",\"2024-05-11T07:42:00\"],\"type\":\"date\"},\"yaxis\":{\"anchor\":\"x\",\"domain\":[0.7333333333333333,1.0],\"title\":{\"text\":\"trend\"},\"rangemode\":\"normal\",\"zerolinecolor\":\"#AAA\"},\"xaxis2\":{\"anchor\":\"y2\",\"domain\":[0.0,1.0],\"range\":[\"2024-05-04T06:18:00\",\"2024-05-11T07:42:00\"],\"type\":\"date\"},\"yaxis2\":{\"anchor\":\"x2\",\"domain\":[0.36666666666666664,0.6333333333333333],\"title\":{\"text\":\"extra_regressors_multiplicative\"},\"rangemode\":\"tozero\",\"zerolinecolor\":\"#AAA\",\"tickformat\":\"%\",\"hoverformat\":\".2%\"},\"xaxis3\":{\"anchor\":\"y3\",\"domain\":[0.0,1.0],\"range\":[\"2016-12-31T22:51:00\",\"2017-01-02T00:09:00\"],\"tickformat\":\"%H:%M\",\"type\":\"date\"},\"yaxis3\":{\"anchor\":\"x3\",\"domain\":[0.0,0.26666666666666666],\"title\":{\"text\":\"daily\"},\"zerolinecolor\":\"#AAA\"},\"height\":600,\"showlegend\":false,\"width\":900},                        {\"responsive\": true}                    ).then(function(){\n",
       "                            \n",
       "var gd = document.getElementById('b7818bae-72f6-4f8b-8c49-5902da87af8f');\n",
       "var x = new MutationObserver(function (mutations, observer) {{\n",
       "        var display = window.getComputedStyle(gd).display;\n",
       "        if (!display || display === 'none') {{\n",
       "            console.log([gd, 'removed!']);\n",
       "            Plotly.purge(gd);\n",
       "            observer.disconnect();\n",
       "        }}\n",
       "}});\n",
       "\n",
       "// Listen for the removal of the full notebook cells\n",
       "var notebookContainer = gd.closest('#notebook-container');\n",
       "if (notebookContainer) {{\n",
       "    x.observe(notebookContainer, {childList: true});\n",
       "}}\n",
       "\n",
       "// Listen for the clearing of the current output cell\n",
       "var outputEl = gd.closest('.output');\n",
       "if (outputEl) {{\n",
       "    x.observe(outputEl, {childList: true});\n",
       "}}\n",
       "\n",
       "                        })                };                });            </script>        </div>"
      ]
     },
     "metadata": {},
     "output_type": "display_data"
    }
   ],
   "source": [
    "plot_components_plotly(m, forecast)"
   ]
  },
  {
   "cell_type": "code",
   "execution_count": 24,
   "id": "5ed0992e-5275-4331-902e-a63b291198ab",
   "metadata": {},
   "outputs": [
    {
     "data": {
      "application/vnd.jupyter.widget-view+json": {
       "model_id": "0f39c1101a4c440a92df97efd2f90c5a",
       "version_major": 2,
       "version_minor": 0
      },
      "text/plain": [
       "  0%|          | 0/1 [00:00<?, ?it/s]"
      ]
     },
     "metadata": {},
     "output_type": "display_data"
    },
    {
     "name": "stderr",
     "output_type": "stream",
     "text": [
      "14:38:06 - cmdstanpy - INFO - Chain [1] start processing\n",
      "14:38:06 - cmdstanpy - INFO - Chain [1] done processing\n"
     ]
    },
    {
     "data": {
      "text/html": [
       "<div>\n",
       "<style scoped>\n",
       "    .dataframe tbody tr th:only-of-type {\n",
       "        vertical-align: middle;\n",
       "    }\n",
       "\n",
       "    .dataframe tbody tr th {\n",
       "        vertical-align: top;\n",
       "    }\n",
       "\n",
       "    .dataframe thead th {\n",
       "        text-align: right;\n",
       "    }\n",
       "</style>\n",
       "<table border=\"1\" class=\"dataframe\">\n",
       "  <thead>\n",
       "    <tr style=\"text-align: right;\">\n",
       "      <th></th>\n",
       "      <th>ds</th>\n",
       "      <th>yhat</th>\n",
       "      <th>yhat_lower</th>\n",
       "      <th>yhat_upper</th>\n",
       "      <th>y</th>\n",
       "      <th>cutoff</th>\n",
       "    </tr>\n",
       "  </thead>\n",
       "  <tbody>\n",
       "    <tr>\n",
       "      <th>0</th>\n",
       "      <td>2024-05-07 17:00:00</td>\n",
       "      <td>-1.087496</td>\n",
       "      <td>-1.095401</td>\n",
       "      <td>-1.080222</td>\n",
       "      <td>2.35</td>\n",
       "      <td>2024-05-07 12:00:00</td>\n",
       "    </tr>\n",
       "    <tr>\n",
       "      <th>1</th>\n",
       "      <td>2024-05-07 20:00:00</td>\n",
       "      <td>2.399244</td>\n",
       "      <td>2.391883</td>\n",
       "      <td>2.406509</td>\n",
       "      <td>2.40</td>\n",
       "      <td>2024-05-07 12:00:00</td>\n",
       "    </tr>\n",
       "    <tr>\n",
       "      <th>2</th>\n",
       "      <td>2024-05-08 09:00:00</td>\n",
       "      <td>2.650557</td>\n",
       "      <td>2.643281</td>\n",
       "      <td>2.658388</td>\n",
       "      <td>2.39</td>\n",
       "      <td>2024-05-07 12:00:00</td>\n",
       "    </tr>\n",
       "    <tr>\n",
       "      <th>3</th>\n",
       "      <td>2024-05-08 12:00:00</td>\n",
       "      <td>-1.329461</td>\n",
       "      <td>-1.336832</td>\n",
       "      <td>-1.321425</td>\n",
       "      <td>2.46</td>\n",
       "      <td>2024-05-07 12:00:00</td>\n",
       "    </tr>\n",
       "    <tr>\n",
       "      <th>4</th>\n",
       "      <td>2024-05-08 14:00:00</td>\n",
       "      <td>2.324368</td>\n",
       "      <td>2.316794</td>\n",
       "      <td>2.331546</td>\n",
       "      <td>2.44</td>\n",
       "      <td>2024-05-07 12:00:00</td>\n",
       "    </tr>\n",
       "  </tbody>\n",
       "</table>\n",
       "</div>"
      ],
      "text/plain": [
       "                   ds      yhat  yhat_lower  yhat_upper     y  \\\n",
       "0 2024-05-07 17:00:00 -1.087496   -1.095401   -1.080222  2.35   \n",
       "1 2024-05-07 20:00:00  2.399244    2.391883    2.406509  2.40   \n",
       "2 2024-05-08 09:00:00  2.650557    2.643281    2.658388  2.39   \n",
       "3 2024-05-08 12:00:00 -1.329461   -1.336832   -1.321425  2.46   \n",
       "4 2024-05-08 14:00:00  2.324368    2.316794    2.331546  2.44   \n",
       "\n",
       "               cutoff  \n",
       "0 2024-05-07 12:00:00  \n",
       "1 2024-05-07 12:00:00  \n",
       "2 2024-05-07 12:00:00  \n",
       "3 2024-05-07 12:00:00  \n",
       "4 2024-05-07 12:00:00  "
      ]
     },
     "execution_count": 24,
     "metadata": {},
     "output_type": "execute_result"
    }
   ],
   "source": [
    "from prophet.diagnostics import cross_validation\n",
    "df_cv = cross_validation(m, initial='2 days', period='12 days', horizon = '3 days')\n",
    "df_cv.head()"
   ]
  },
  {
   "cell_type": "code",
   "execution_count": 25,
   "id": "d698b2f3-09e7-45f5-b268-3656317af859",
   "metadata": {},
   "outputs": [
    {
     "data": {
      "text/html": [
       "<div>\n",
       "<style scoped>\n",
       "    .dataframe tbody tr th:only-of-type {\n",
       "        vertical-align: middle;\n",
       "    }\n",
       "\n",
       "    .dataframe tbody tr th {\n",
       "        vertical-align: top;\n",
       "    }\n",
       "\n",
       "    .dataframe thead th {\n",
       "        text-align: right;\n",
       "    }\n",
       "</style>\n",
       "<table border=\"1\" class=\"dataframe\">\n",
       "  <thead>\n",
       "    <tr style=\"text-align: right;\">\n",
       "      <th></th>\n",
       "      <th>horizon</th>\n",
       "      <th>mse</th>\n",
       "      <th>rmse</th>\n",
       "      <th>mae</th>\n",
       "      <th>mape</th>\n",
       "      <th>mdape</th>\n",
       "      <th>smape</th>\n",
       "      <th>coverage</th>\n",
       "    </tr>\n",
       "  </thead>\n",
       "  <tbody>\n",
       "    <tr>\n",
       "      <th>0</th>\n",
       "      <td>0 days 08:00:00</td>\n",
       "      <td>5.908188</td>\n",
       "      <td>2.430676</td>\n",
       "      <td>1.719126</td>\n",
       "      <td>0.731540</td>\n",
       "      <td>0.731540</td>\n",
       "      <td>1.000158</td>\n",
       "      <td>0.5</td>\n",
       "    </tr>\n",
       "    <tr>\n",
       "      <th>1</th>\n",
       "      <td>0 days 21:00:00</td>\n",
       "      <td>0.033945</td>\n",
       "      <td>0.184242</td>\n",
       "      <td>0.130656</td>\n",
       "      <td>0.054667</td>\n",
       "      <td>0.054667</td>\n",
       "      <td>0.051850</td>\n",
       "      <td>0.5</td>\n",
       "    </tr>\n",
       "    <tr>\n",
       "      <th>2</th>\n",
       "      <td>1 days 00:00:00</td>\n",
       "      <td>7.213954</td>\n",
       "      <td>2.685880</td>\n",
       "      <td>2.025009</td>\n",
       "      <td>0.824725</td>\n",
       "      <td>0.824725</td>\n",
       "      <td>1.051692</td>\n",
       "      <td>0.0</td>\n",
       "    </tr>\n",
       "    <tr>\n",
       "      <th>3</th>\n",
       "      <td>1 days 02:00:00</td>\n",
       "      <td>7.186694</td>\n",
       "      <td>2.680801</td>\n",
       "      <td>1.952546</td>\n",
       "      <td>0.793911</td>\n",
       "      <td>0.793911</td>\n",
       "      <td>1.024270</td>\n",
       "      <td>0.0</td>\n",
       "    </tr>\n",
       "    <tr>\n",
       "      <th>4</th>\n",
       "      <td>1 days 04:00:00</td>\n",
       "      <td>1.108199</td>\n",
       "      <td>1.052710</td>\n",
       "      <td>0.799946</td>\n",
       "      <td>0.322941</td>\n",
       "      <td>0.322941</td>\n",
       "      <td>0.451304</td>\n",
       "      <td>0.0</td>\n",
       "    </tr>\n",
       "  </tbody>\n",
       "</table>\n",
       "</div>"
      ],
      "text/plain": [
       "          horizon       mse      rmse       mae      mape     mdape     smape  \\\n",
       "0 0 days 08:00:00  5.908188  2.430676  1.719126  0.731540  0.731540  1.000158   \n",
       "1 0 days 21:00:00  0.033945  0.184242  0.130656  0.054667  0.054667  0.051850   \n",
       "2 1 days 00:00:00  7.213954  2.685880  2.025009  0.824725  0.824725  1.051692   \n",
       "3 1 days 02:00:00  7.186694  2.680801  1.952546  0.793911  0.793911  1.024270   \n",
       "4 1 days 04:00:00  1.108199  1.052710  0.799946  0.322941  0.322941  0.451304   \n",
       "\n",
       "   coverage  \n",
       "0       0.5  \n",
       "1       0.5  \n",
       "2       0.0  \n",
       "3       0.0  \n",
       "4       0.0  "
      ]
     },
     "execution_count": 25,
     "metadata": {},
     "output_type": "execute_result"
    }
   ],
   "source": [
    "df_p = performance_metrics(df_cv)\n",
    "df_p.head()"
   ]
  },
  {
   "cell_type": "code",
   "execution_count": 29,
   "id": "25ec7284-b80a-4016-af78-7f509502f2fc",
   "metadata": {},
   "outputs": [
    {
     "name": "stderr",
     "output_type": "stream",
     "text": [
      "/home/dell/anaconda3/envs/flood-rs/lib/python3.12/site-packages/prophet/plot.py:546: FutureWarning:\n",
      "\n",
      "Series.view is deprecated and will be removed in a future version. Use ``astype`` as an alternative to change the dtype.\n",
      "\n",
      "/home/dell/anaconda3/envs/flood-rs/lib/python3.12/site-packages/prophet/plot.py:547: FutureWarning:\n",
      "\n",
      "Series.view is deprecated and will be removed in a future version. Use ``astype`` as an alternative to change the dtype.\n",
      "\n"
     ]
    },
    {
     "data": {
      "image/png": "[encoded data removed]",
      "text/plain": [
       "<Figure size 1000x600 with 1 Axes>"
      ]
     },
     "metadata": {},
     "output_type": "display_data"
    }
   ],
   "source": [
    "fig = plot_cross_validation_metric(df_cv, metric='rmse')"
   ]
  },
  {
   "cell_type": "code",
   "execution_count": null,
   "id": "0cc8852d-cb21-4733-a377-a3a7638bd6d6",
   "metadata": {},
   "outputs": [],
   "source": []
  }
 ],
 "metadata": {
  "kernelspec": {
   "display_name": "Python 3 (ipykernel)",
   "language": "python",
   "name": "python3"
  },
  "language_info": {
   "codemirror_mode": {
    "name": "ipython",
    "version": 3
   },
   "file_extension": ".py",
   "mimetype": "text/x-python",
   "name": "python",
   "nbconvert_exporter": "python",
   "pygments_lexer": "ipython3",
   "version": "3.12.3"
  }
 },
 "nbformat": 4,
 "nbformat_minor": 5
}
